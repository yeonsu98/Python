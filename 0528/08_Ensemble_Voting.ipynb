{
 "cells": [
  {
   "cell_type": "markdown",
   "id": "4cbc5d46",
   "metadata": {},
   "source": [
    "MNIST 손글씨 데이터셋을 사용해 단일 모델들을 앙상블해서 투표를 통해 예측해본다"
   ]
  },
  {
   "cell_type": "code",
   "execution_count": 1,
   "id": "8568afdc",
   "metadata": {},
   "outputs": [],
   "source": [
    "from sklearn import datasets # MNIST 손글씨 데이터셋을 사용하기 위해 import 시킨다.\n",
    "from sklearn import tree # 의사결정 트리\n",
    "from sklearn.neighbors import KNeighborsClassifier # kNN\n",
    "from sklearn.svm import SVC # SVM\n",
    "from sklearn.ensemble import VotingClassifier # 하드 보팅, 소프트 보팅을 계산한다.\n",
    "from sklearn.model_selection import train_test_split # 학습, 검증 데이터 분리\n",
    "from sklearn.metrics import accuracy_score # 정확도 계산"
   ]
  },
  {
   "cell_type": "markdown",
   "id": "be3e8806",
   "metadata": {},
   "source": [
    "손글씨 데이터를 불러온다."
   ]
  },
  {
   "cell_type": "code",
   "execution_count": 3,
   "id": "c912a338",
   "metadata": {},
   "outputs": [
    {
     "name": "stdout",
     "output_type": "stream",
     "text": [
      "(1797, 64) (1797,)\n"
     ]
    }
   ],
   "source": [
    "mnist = datasets.load_digits()\n",
    "features, labels = mnist.data, mnist.target\n",
    "print(features.shape, labels.shape)"
   ]
  },
  {
   "cell_type": "code",
   "execution_count": 4,
   "id": "e327ea1c",
   "metadata": {},
   "outputs": [
    {
     "name": "stdout",
     "output_type": "stream",
     "text": [
      "학습 데이터 개수: 1437, 테스트 데이터 개수: 360\n"
     ]
    }
   ],
   "source": [
    "X_train, X_test, y_train, y_test = train_test_split(features, labels, test_size=0.2)\n",
    "print('학습 데이터 개수: {}, 테스트 데이터 개수: {}'.format(len(X_train), len(X_test)))"
   ]
  },
  {
   "cell_type": "markdown",
   "id": "5b976d94",
   "metadata": {},
   "source": [
    "단일 모델의 정확도 측정  \n",
    "앙상블의 정확도를 측정하기에 앞서 단일 모델들의 정확도를 의사결정 트리, kNN, SVM 분류기를 만들어 정확도를 계산한다."
   ]
  },
  {
   "cell_type": "code",
   "execution_count": null,
   "id": "2736afef",
   "metadata": {},
   "outputs": [],
   "source": []
  },
  {
   "cell_type": "code",
   "execution_count": null,
   "id": "51df6155",
   "metadata": {},
   "outputs": [],
   "source": []
  },
  {
   "cell_type": "code",
   "execution_count": null,
   "id": "1204012a",
   "metadata": {},
   "outputs": [],
   "source": []
  },
  {
   "cell_type": "code",
   "execution_count": null,
   "id": "fee9a75e",
   "metadata": {},
   "outputs": [],
   "source": []
  },
  {
   "cell_type": "code",
   "execution_count": null,
   "id": "e194f316",
   "metadata": {},
   "outputs": [],
   "source": []
  }
 ],
 "metadata": {
  "kernelspec": {
   "display_name": "Python 3",
   "language": "python",
   "name": "python3"
  },
  "language_info": {
   "codemirror_mode": {
    "name": "ipython",
    "version": 3
   },
   "file_extension": ".py",
   "mimetype": "text/x-python",
   "name": "python",
   "nbconvert_exporter": "python",
   "pygments_lexer": "ipython3",
   "version": "3.9.5"
  }
 },
 "nbformat": 4,
 "nbformat_minor": 5
}
