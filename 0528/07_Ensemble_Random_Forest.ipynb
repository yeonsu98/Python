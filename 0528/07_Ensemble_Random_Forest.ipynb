{
 "cells": [
  {
   "cell_type": "code",
   "execution_count": 23,
   "id": "6d12ea3d",
   "metadata": {},
   "outputs": [],
   "source": [
    "import warnings\n",
    "warnings.filterwarnings('ignore')"
   ]
  },
  {
   "cell_type": "markdown",
   "id": "7774cbd6",
   "metadata": {},
   "source": [
    "앙상블(ensemble) 기법이란 여러 개의 분류 모델을 조합해서 더 나은 성능을 내는 방법이다.  \n",
    "최근접 이웃, 서포트 벡터 머신, 의사결정 트리, 나이브 베이즈 분류 모델을 실습했는데 지금까지 실습한 여러 분류 모델을 조합해서 단일 모델모다 더 좋은 성능을 낸다.\n",
    "***\n",
    "배깅(bagging)의 어원은 부트스트랩(bootstrap)과 어그리게이팅(aggregating, 집계)에서 왔고 상당히 연주하기 힘든 바이올린 연주곡을 두세 명의 초급 바이올린 연주자가 나누어 연주함으로써 한 명의 중급 바이올린 연주자가 연주하는 것 보다 더 나은 연주를 할 수 있는 것과 유사하다.  \n",
    "중급 바이올린 연주자는 나름 잘 학습했지만 학습 데이터에 과대적합된 의사결정 트리라 볼 수 있다. 의사결정 트리의 단점은 쉽게 과적합된다는 것인데 배깅은 과대적합이 쉬운 모델에 상당히 적합한 앙상블이다.\n",
    "***\n",
    "랜던 포레스트(random forest)  \n",
    "여러 의사결정 트리를 배깅을 적용해서 예측을 실행하는 모델이다.  \n",
    "배깅이 모든 분류 모델에서 적용 가능하지만 특히 과대적합되기 쉬운 의사결정 트리에 적용하면 확실히 과대적합을 줄여 성능이 높아지는 혜택을 보기 때문에 배깅은 많은 의사결정 트리 모델의 개선을 이뤘고 여러 개의 나무들이 모여있다는 개념에서 랜덤 포레스트라는 이름이 생겨났다.  \n",
    "의사결정 트리에서는 최적의 특징으로 트리를 분기하는 반면 랜덤 포레스트는 각 노드에 주어진 데이터를 샘플링해서 일부 데이터를 제외한 채 최적의 특징을 찾아 트리를 분기한다. 이러한 과정에서 랜덤 포레스트는 또 한 번 모델의 편향을 증가시켜 과대적합의 위험을 감소시킨다.\n",
    "***\n",
    "부스팅(Boosting)  \n",
    "여러 개의 분류기를 만들어 투표를 통해 예측값을 결정한다는 측면에서는 배깅과 동일하다.  \n",
    "배깅은 서로 다른 알고리즘에 기반한 여러 분류기를 병렬적으로 학습하는 반면에 부스팅은 동일한 알고리즘의 분류기를 순차적으로 학습해서 여러 개의 분류기를 만든 후 테스트할 때 가중 투표를 통해 예측값을 결정한다."
   ]
  },
  {
   "cell_type": "markdown",
   "id": "02c88846",
   "metadata": {},
   "source": [
    "MNIST 손글씨 데이터셋으로 랜덤 포레스트 모델과 의사결정 트리 모델을 동일하게 학습시켜 두 모델의 성능 차이를 시각화해 비교한다."
   ]
  },
  {
   "cell_type": "code",
   "execution_count": 24,
   "id": "9c677fbc",
   "metadata": {},
   "outputs": [],
   "source": [
    "from sklearn import datasets # MNIST 손글씨 데이터셋을 사용하기 위해 import 시킨다.\n",
    "from sklearn import tree # 의사결정 트리\n",
    "from sklearn.ensemble import RandomForestClassifier # 랜덤 포레스트 분류기\n",
    "from sklearn.model_selection import cross_val_score # 교차 검증\n",
    "import matplotlib.pyplot as plt\n",
    "import pandas as pd\n",
    "import numpy as np"
   ]
  },
  {
   "cell_type": "markdown",
   "id": "446c7d02",
   "metadata": {},
   "source": [
    "MNIST 손글씨 데이터 불러오기"
   ]
  },
  {
   "cell_type": "code",
   "execution_count": 25,
   "id": "0dc37416",
   "metadata": {},
   "outputs": [],
   "source": [
    "mnist = datasets.load_digits()\n",
    "features, labels = mnist.data, mnist.target"
   ]
  },
  {
   "cell_type": "markdown",
   "id": "e17f082b",
   "metadata": {},
   "source": [
    "교차 검증  \n",
    "사이킷런의 cross_val_score() 함수는 데이터를 k개로 나눠서 k번 정확도를 검증하는 k-fold 교차 검증을 수행한다.  \n",
    "cross_val_score(model, X, y, scoring=None, cv=None)  \n",
    "model: 회귀 분석 모형  \n",
    "X: 독립 변수 데이터 => 학습 데이터  \n",
    "y: 종속 변수 데이터 => 결과  \n",
    "scoring: 성능 검증에 사용할 매개 변수에 원하는 평가 지포를 지정한다. 분류일 경우 정확도를 의미하는 'accuracy' 이다.  \n",
    "cv: 교차 검증 생성기 객체 또는 숫자, None이면 KFold(3), 숫자 k이면 KFold(k)  "
   ]
  },
  {
   "cell_type": "code",
   "execution_count": 26,
   "id": "f7a80256",
   "metadata": {},
   "outputs": [],
   "source": [
    "# MNIST 데이터에 대한 랜덤 포레스트와 의사결정 트리의 검증 정확도를 계산하는 함수\n",
    "def cross_validation(classifier, features, labels):\n",
    "    cv_scores = []\n",
    "    for i in range(10):\n",
    "        scores = cross_val_score(classifier, features, labels, cv=10, scoring='accuracy')\n",
    "        # print(scores)\n",
    "        cv_scores.append(scores.mean())\n",
    "    return cv_scores"
   ]
  },
  {
   "cell_type": "code",
   "execution_count": 27,
   "id": "67489b6d",
   "metadata": {},
   "outputs": [
    {
     "name": "stdout",
     "output_type": "stream",
     "text": [
      " 1. 0.82858\n",
      " 2. 0.82413\n",
      " 3. 0.82247\n",
      " 4. 0.83247\n",
      " 5. 0.81856\n",
      " 6. 0.83246\n",
      " 7. 0.83359\n",
      " 8. 0.83137\n",
      " 9. 0.82860\n",
      "10. 0.82915\n"
     ]
    }
   ],
   "source": [
    "# 의사결정 트리의 MNIST 손글씨 검증 정확도를 계산한다.\n",
    "dt_cv_scores = cross_validation(tree.DecisionTreeClassifier(), features, labels)\n",
    "for i in range(len(dt_cv_scores)):\n",
    "    print('{0:2d}. {1:7.5f}'.format(i + 1, dt_cv_scores[i]))"
   ]
  },
  {
   "cell_type": "code",
   "execution_count": 28,
   "id": "569dcadf",
   "metadata": {},
   "outputs": [
    {
     "name": "stdout",
     "output_type": "stream",
     "text": [
      " 1. 0.95214\n",
      " 2. 0.94601\n",
      " 3. 0.95047\n",
      " 4. 0.94935\n",
      " 5. 0.94712\n",
      " 6. 0.94825\n",
      " 7. 0.94657\n",
      " 8. 0.94658\n",
      " 9. 0.95214\n",
      "10. 0.94657\n"
     ]
    }
   ],
   "source": [
    "# 랜덤 포레스트의 MNIST 손글씨 검증 정확도를 계산한다.\n",
    "rf_cv_scores = cross_validation(RandomForestClassifier(), features, labels)\n",
    "for i in range(len(rf_cv_scores)):\n",
    "    print('{0:2d}. {1:7.5f}'.format(i + 1, rf_cv_scores[i]))"
   ]
  },
  {
   "cell_type": "markdown",
   "id": "1d6aa590",
   "metadata": {},
   "source": [
    "의사결정 트리 vs 랜덤 포레스트 정확도 시각화"
   ]
  },
  {
   "cell_type": "code",
   "execution_count": 29,
   "id": "37564b53",
   "metadata": {},
   "outputs": [
    {
     "data": {
      "text/html": [
       "<div>\n",
       "<style scoped>\n",
       "    .dataframe tbody tr th:only-of-type {\n",
       "        vertical-align: middle;\n",
       "    }\n",
       "\n",
       "    .dataframe tbody tr th {\n",
       "        vertical-align: top;\n",
       "    }\n",
       "\n",
       "    .dataframe thead th {\n",
       "        text-align: right;\n",
       "    }\n",
       "</style>\n",
       "<table border=\"1\" class=\"dataframe\">\n",
       "  <thead>\n",
       "    <tr style=\"text-align: right;\">\n",
       "      <th></th>\n",
       "      <th>decision_tree</th>\n",
       "      <th>random_forest</th>\n",
       "    </tr>\n",
       "  </thead>\n",
       "  <tbody>\n",
       "    <tr>\n",
       "      <th>0</th>\n",
       "      <td>0.828585</td>\n",
       "      <td>0.952142</td>\n",
       "    </tr>\n",
       "    <tr>\n",
       "      <th>1</th>\n",
       "      <td>0.824128</td>\n",
       "      <td>0.946006</td>\n",
       "    </tr>\n",
       "    <tr>\n",
       "      <th>2</th>\n",
       "      <td>0.822474</td>\n",
       "      <td>0.950475</td>\n",
       "    </tr>\n",
       "    <tr>\n",
       "      <th>3</th>\n",
       "      <td>0.832474</td>\n",
       "      <td>0.949354</td>\n",
       "    </tr>\n",
       "    <tr>\n",
       "      <th>4</th>\n",
       "      <td>0.818557</td>\n",
       "      <td>0.947120</td>\n",
       "    </tr>\n",
       "    <tr>\n",
       "      <th>5</th>\n",
       "      <td>0.832461</td>\n",
       "      <td>0.948246</td>\n",
       "    </tr>\n",
       "    <tr>\n",
       "      <th>6</th>\n",
       "      <td>0.833588</td>\n",
       "      <td>0.946574</td>\n",
       "    </tr>\n",
       "    <tr>\n",
       "      <th>7</th>\n",
       "      <td>0.831369</td>\n",
       "      <td>0.946577</td>\n",
       "    </tr>\n",
       "    <tr>\n",
       "      <th>8</th>\n",
       "      <td>0.828603</td>\n",
       "      <td>0.952142</td>\n",
       "    </tr>\n",
       "    <tr>\n",
       "      <th>9</th>\n",
       "      <td>0.829150</td>\n",
       "      <td>0.946570</td>\n",
       "    </tr>\n",
       "  </tbody>\n",
       "</table>\n",
       "</div>"
      ],
      "text/plain": [
       "   decision_tree  random_forest\n",
       "0       0.828585       0.952142\n",
       "1       0.824128       0.946006\n",
       "2       0.822474       0.950475\n",
       "3       0.832474       0.949354\n",
       "4       0.818557       0.947120\n",
       "5       0.832461       0.948246\n",
       "6       0.833588       0.946574\n",
       "7       0.831369       0.946577\n",
       "8       0.828603       0.952142\n",
       "9       0.829150       0.946570"
      ]
     },
     "execution_count": 29,
     "metadata": {},
     "output_type": "execute_result"
    }
   ],
   "source": [
    "# 예전에 사용하던 방법\n",
    "# cv_list = [['decision_tree', dt_cv_scores], ['random_forest', rf_cv_scores]]\n",
    "# 리스트를 데이터프레임으로 만들어주는 from_item() 메소드가 없어지고 from_dict() 메소드가 사용된다.\n",
    "# df = pd.DataFrame.from_item(cv_list)\n",
    "\n",
    "# from_dict() 메소드는 딕셔너리를 데이터프레임으로 변경하려 할 경우 사용한다.\n",
    "cv_dict = {'decision_tree': dt_cv_scores, 'random_forest': rf_cv_scores}\n",
    "# df = pd.DataFrame.from_dict(cv_dict)\n",
    "df = pd.DataFrame(cv_dict)\n",
    "df"
   ]
  },
  {
   "cell_type": "code",
   "execution_count": 30,
   "id": "77f08d40",
   "metadata": {},
   "outputs": [
    {
     "data": {
      "text/plain": [
       "<AxesSubplot:>"
      ]
     },
     "execution_count": 30,
     "metadata": {},
     "output_type": "execute_result"
    },
    {
     "data": {
      "image/png": "[encoded data removed]",
      "text/plain": [
       "<Figure size 432x288 with 1 Axes>"
      ]
     },
     "metadata": {
      "needs_background": "light"
     },
     "output_type": "display_data"
    }
   ],
   "source": [
    "df.plot()"
   ]
  },
  {
   "cell_type": "markdown",
   "id": "f5e9a5ae",
   "metadata": {},
   "source": [
    "정확도"
   ]
  },
  {
   "cell_type": "code",
   "execution_count": 31,
   "id": "7443974b",
   "metadata": {},
   "outputs": [
    {
     "name": "stdout",
     "output_type": "stream",
     "text": [
      "의사결정 트리: 0.8281387337057728\n",
      "랜덤 포레스트: 0.9485204841713222\n"
     ]
    }
   ],
   "source": [
    "print('의사결정 트리: {}'.format(np.mean(dt_cv_scores)))\n",
    "print('랜덤 포레스트: {}'.format(np.mean(rf_cv_scores)))"
   ]
  },
  {
   "cell_type": "code",
   "execution_count": null,
   "id": "6297db4b",
   "metadata": {},
   "outputs": [],
   "source": []
  },
  {
   "cell_type": "code",
   "execution_count": null,
   "id": "6e4a8ff9",
   "metadata": {},
   "outputs": [],
   "source": []
  },
  {
   "cell_type": "code",
   "execution_count": null,
   "id": "ecfbbb79",
   "metadata": {},
   "outputs": [],
   "source": []
  },
  {
   "cell_type": "code",
   "execution_count": null,
   "id": "1505f3bd",
   "metadata": {},
   "outputs": [],
   "source": []
  },
  {
   "cell_type": "code",
   "execution_count": null,
   "id": "0ace1ee7",
   "metadata": {},
   "outputs": [],
   "source": []
  }
 ],
 "metadata": {
  "kernelspec": {
   "display_name": "Python 3",
   "language": "python",
   "name": "python3"
  },
  "language_info": {
   "codemirror_mode": {
    "name": "ipython",
    "version": 3
   },
   "file_extension": ".py",
   "mimetype": "text/x-python",
   "name": "python",
   "nbconvert_exporter": "python",
   "pygments_lexer": "ipython3",
   "version": "3.9.5"
  }
 },
 "nbformat": 4,
 "nbformat_minor": 5
}
