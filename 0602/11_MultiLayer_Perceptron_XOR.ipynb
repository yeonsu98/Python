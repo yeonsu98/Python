{
 "cells": [
  {
   "cell_type": "code",
   "execution_count": 1,
   "id": "c95daaf5",
   "metadata": {},
   "outputs": [],
   "source": [
    "import warnings\n",
    "warnings.filterwarnings('ignore')"
   ]
  },
  {
   "cell_type": "code",
   "execution_count": 2,
   "id": "5794575f",
   "metadata": {},
   "outputs": [
    {
     "name": "stdout",
     "output_type": "stream",
     "text": [
      "WARNING:tensorflow:From C:\\Users\\admin\\AppData\\Roaming\\Python\\Python39\\site-packages\\tensorflow\\python\\compat\\v2_compat.py:96: disable_resource_variables (from tensorflow.python.ops.variable_scope) is deprecated and will be removed in a future version.\n",
      "Instructions for updating:\n",
      "non-resource variables are not supported in the long term\n"
     ]
    }
   ],
   "source": [
    "import tensorflow.compat.v1 as tf\n",
    "tf.disable_v2_behavior()"
   ]
  },
  {
   "cell_type": "code",
   "execution_count": 3,
   "id": "0b5477b2",
   "metadata": {},
   "outputs": [
    {
     "data": {
      "image/png": "[encoded data removed]",
      "text/plain": [
       "<IPython.core.display.Image object>"
      ]
     },
     "execution_count": 3,
     "metadata": {},
     "output_type": "execute_result"
    }
   ],
   "source": [
    "from IPython.display import Image\n",
    "Image('./multiLayrePerceptron.png')"
   ]
  },
  {
   "cell_type": "markdown",
   "id": "2aadbf5b",
   "metadata": {},
   "source": [
    "XOR 연산은 입력데이터를 X라고 할 경우 [[0, 0], [0, 1], [1, 0], [1, 1]]과 같은 경우의 수가 있다.  \n",
    "총 4개의 데이터가 2개의 아이템을 가지고 있으므로 X는 [4, 2]의 형태로 정의할 수 있다.  \n",
    "입력값에 따른 출력값 Y는 [[0], [1], [1], [0]] 이므로 Y는 [4, 1]의 형태로 정의할 수 있다."
   ]
  },
  {
   "cell_type": "code",
   "execution_count": 4,
   "id": "4238a09d",
   "metadata": {},
   "outputs": [],
   "source": [
    "X = tf.placeholder(tf.float32, shape=[4, 2]) # 입력값\n",
    "Y = tf.placeholder(tf.float32, shape=[4, 1]) # 출력값"
   ]
  },
  {
   "cell_type": "markdown",
   "id": "7a9ebfab",
   "metadata": {},
   "source": [
    "1번째 히든 레이어에서 2개의 입력(X)과 한개의 편향값(B1)을 받아 2개의 시그모이드 출력(Z)을 다음 레이어로 전달한다."
   ]
  },
  {
   "cell_type": "code",
   "execution_count": 6,
   "id": "92f84851",
   "metadata": {},
   "outputs": [],
   "source": [
    "# 2개의 입력을 받는 2개의 뉴런을 만든다.\n",
    "# random_normal()은 정규 분포로 부터의 난수값을 반환하고 random_uniform()은 균등 분포로 부터의 난수값을 반환한다.\n",
    "W1 = tf.Variable(tf.random_uniform([2, 2]))\n",
    "# 각 뉴런은 1개의 편향값을 가진다.\n",
    "# zeros()는 모든 원소의 값이 0인 텐서를 생성한다.\n",
    "B1 = tf.Variable(tf.zeros([2]))\n",
    "# 시그모이드를 거쳐 출력값으로 Z를 리턴한게 한다. => sigmoid(W1 * X + B1)\n",
    "Z = tf.sigmoid(tf.matmul(X, W1) + B1)"
   ]
  },
  {
   "cell_type": "markdown",
   "id": "adbd12d5",
   "metadata": {},
   "source": [
    "2번째 히든 레이어어서 1번째 히든 레이어의 출력값인 Z와 1개의 편향값(B2)을 받아 1개의 시그모이드를 출력(Y_hat)한다."
   ]
  },
  {
   "cell_type": "code",
   "execution_count": 7,
   "id": "d09fa84a",
   "metadata": {},
   "outputs": [],
   "source": [
    "# Z를 입력값으로 받는 1개의 뉴런을 만든다.\n",
    "W2 = tf.Variable(tf.random_uniform([2, 1]))\n",
    "# 각 뉴런은 1개의 편향값을 가진다.\n",
    "B2 = tf.Variable(tf.zeros([1]))\n",
    "# 출력값으로 Y_hat을 리턴하게 한다. => sigmoid(W2 * Z + B2)\n",
    "Y_hat = tf.sigmoid(tf.matmul(Z, W2) + B2)"
   ]
  },
  {
   "cell_type": "markdown",
   "id": "7bcdd910",
   "metadata": {},
   "source": [
    "손실 함수로 크롤스 엔트로피를 사용하고 경사 하강법으로 모델의 매개 변수(가중치, 편향값)을 최적화 한다."
   ]
  },
  {
   "cell_type": "code",
   "execution_count": 8,
   "id": "48ac720f",
   "metadata": {},
   "outputs": [],
   "source": [
    "# 크로스 엔트로피\n",
    "loss = tf.reduce_mean(-1 * (\n",
    "    Y * tf.log(Y_hat) + (1 - Y) * tf.log(1.0 - Y_hat)\n",
    "))\n",
    "# 경사 하강법\n",
    "train_step = tf.train.GradientDescentOptimizer(0.05).minimize(loss)\n",
    "# 모델을 학습하기 위한 학습 데이터를 만든다.\n",
    "train_X = [[0, 0], [0, 1], [1, 0], [1, 1]]\n",
    "train_Y = [[0], [1], [1], [0]]"
   ]
  },
  {
   "cell_type": "markdown",
   "id": "88231aba",
   "metadata": {},
   "source": [
    "학습을 진행한다."
   ]
  },
  {
   "cell_type": "code",
   "execution_count": 15,
   "id": "a0964833",
   "metadata": {},
   "outputs": [
    {
     "name": "stdout",
     "output_type": "stream",
     "text": [
      "학습 데이터: [[0, 0], [0, 1], [1, 0], [1, 1]]\n",
      "================================================================================\n",
      "epoch:     0\n",
      "output:\n",
      " [[0.6046843]\n",
      " [0.6274479]\n",
      " [0.6251776]\n",
      " [0.6452218]]\n",
      "================================================================================\n",
      "epoch:  5000\n",
      "output:\n",
      " [[0.408395 ]\n",
      " [0.5289788]\n",
      " [0.531994 ]\n",
      " [0.5621398]]\n",
      "================================================================================\n",
      "epoch: 10000\n",
      "output:\n",
      " [[0.11542612]\n",
      " [0.83661556]\n",
      " [0.836621  ]\n",
      " [0.23482016]]\n",
      "================================================================================\n",
      "epoch: 15000\n",
      "output:\n",
      " [[0.03923914]\n",
      " [0.9656513 ]\n",
      " [0.96562946]\n",
      " [0.04042596]]\n",
      "================================================================================\n",
      "최종 학습 결과:\n",
      " [[0.02235708]\n",
      " [0.98216486]\n",
      " [0.9821563 ]\n",
      " [0.01993281]]\n"
     ]
    }
   ],
   "source": [
    "with tf.Session() as sess:\n",
    "    sess.run(tf.global_variables_initializer())\n",
    "    print('학습 데이터: {}'.format(train_X))\n",
    "    print('=' * 80)\n",
    "    # 2만 번의 반복 학습을 진행한다.\n",
    "    for i in range(20000):\n",
    "        sess.run(train_step, feed_dict={X: train_X, Y: train_Y})\n",
    "        if i % 5000 == 0:\n",
    "            print('epoch: {0:5d}'.format(i))\n",
    "            print('output:\\n {}'.format(sess.run(Y_hat, feed_dict={X: train_X, Y: train_Y})))\n",
    "            print('=' * 80)\n",
    "    # =================\n",
    "    print('최종 학습 결과:\\n {}'.format(sess.run(Y_hat, feed_dict={X: train_X, Y: train_Y})))"
   ]
  },
  {
   "cell_type": "code",
   "execution_count": null,
   "id": "ad76df8a",
   "metadata": {},
   "outputs": [],
   "source": []
  },
  {
   "cell_type": "code",
   "execution_count": null,
   "id": "b5434180",
   "metadata": {},
   "outputs": [],
   "source": []
  },
  {
   "cell_type": "code",
   "execution_count": null,
   "id": "b76fa6b9",
   "metadata": {},
   "outputs": [],
   "source": []
  },
  {
   "cell_type": "code",
   "execution_count": null,
   "id": "09c83ba4",
   "metadata": {},
   "outputs": [],
   "source": []
  }
 ],
 "metadata": {
  "kernelspec": {
   "display_name": "Python 3",
   "language": "python",
   "name": "python3"
  },
  "language_info": {
   "codemirror_mode": {
    "name": "ipython",
    "version": 3
   },
   "file_extension": ".py",
   "mimetype": "text/x-python",
   "name": "python",
   "nbconvert_exporter": "python",
   "pygments_lexer": "ipython3",
   "version": "3.9.5"
  }
 },
 "nbformat": 4,
 "nbformat_minor": 5
}
