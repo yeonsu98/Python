{
 "cells": [
  {
   "cell_type": "code",
   "execution_count": 1,
   "id": "ab0638a6",
   "metadata": {},
   "outputs": [],
   "source": [
    "import warnings\n",
    "warnings.filterwarnings('ignore')"
   ]
  },
  {
   "cell_type": "code",
   "execution_count": 2,
   "id": "cac4ea85",
   "metadata": {},
   "outputs": [
    {
     "name": "stdout",
     "output_type": "stream",
     "text": [
      "WARNING:tensorflow:From C:\\Users\\admin\\AppData\\Roaming\\Python\\Python39\\site-packages\\tensorflow\\python\\compat\\v2_compat.py:96: disable_resource_variables (from tensorflow.python.ops.variable_scope) is deprecated and will be removed in a future version.\n",
      "Instructions for updating:\n",
      "non-resource variables are not supported in the long term\n"
     ]
    }
   ],
   "source": [
    "import numpy as np\n",
    "import pandas as pd\n",
    "import tensorflow.compat.v1 as tf\n",
    "tf.disable_v2_behavior()"
   ]
  },
  {
   "cell_type": "code",
   "execution_count": 3,
   "id": "63a185dd",
   "metadata": {},
   "outputs": [],
   "source": [
    "X = tf.placeholder(dtype=tf.float32, shape=[None, 4])        # 변화 요인(평균 기온, 최저 기온, 최대 기온, 강수랑)\n",
    "# Y = tf.placeholder(dtype=tf.float32, shape=[None, 1])        # 가격(실제값)\n",
    "a = tf.Variable(tf.random_uniform([4, 1]), dtype=tf.float32) # 기울기, 4행 1열의 난수를 발생시킨다.\n",
    "b = tf.Variable(tf.random_uniform([1]), dtype=tf.float32)    # y절편\n",
    "y = tf.matmul(X, a) + b                                      # 예측값"
   ]
  },
  {
   "cell_type": "code",
   "execution_count": 4,
   "id": "0262ace7",
   "metadata": {},
   "outputs": [
    {
     "name": "stdout",
     "output_type": "stream",
     "text": [
      "평균 온도: 5\n",
      "최저 온도: -12\n",
      "최고 온도: 7\n",
      "강수량: 15\n"
     ]
    }
   ],
   "source": [
    "# 배추 가격을 결정하는 4가지 변화 요인을 입력받는다.\n",
    "# input() 함수는 무조건 문자열로 입력을 받기 때문에 입력받은 후 int()나 float() 함수를 사용해서 숫자로 변환한다.\n",
    "# int(input('메시지')) => 입력받은 문자열을 정수로 변환한다.\n",
    "# float(input('메시지')) => 입력받은 문자열을 실수로 변환한다.\n",
    "avgTemp = float(input('평균 온도: '))\n",
    "minTemp = float(input('최저 온도: '))\n",
    "maxTemp = float(input('최고 온도: '))\n",
    "rainFall = float(input('강수량: '))"
   ]
  },
  {
   "cell_type": "code",
   "execution_count": 18,
   "id": "819ce9d3",
   "metadata": {},
   "outputs": [
    {
     "name": "stdout",
     "output_type": "stream",
     "text": [
      "INFO:tensorflow:Restoring parameters from ./data/saved.cpkt\n",
      "평균 온도:  5.0, 최저 온도: -12.0, 최고 온도\" :  7.0, 강수량: 15.0일 때 배추 가격은 2,390.6원 입니다.\n"
     ]
    }
   ],
   "source": [
    "sess = tf.Session()\n",
    "sess.run(tf.global_variables_initializer())\n",
    "\n",
    "# 저장된 학습 모델을 불러와 적용시킨다.\n",
    "saver = tf.train.Saver()\n",
    "# save() 메소드로 저장시킨 학습 모델은 restore() 메소드를 사용해 세션으로 불러올 수 있다.\n",
    "# 정상적으로 결과가 출력될 때 학습에 사용하는 변수를 다시 선언하면 학습 모델을 reatore() 메소드를 사용해 읽어들일 때 오류가\n",
    "# 발생된다.\n",
    "# restore() 메소드를 사용해서 학습 모델을 읽어들일 때 오류가 발생되면 쥬피터 노트북을 종료하고 다시 실행한다.\n",
    "saver.restore(sess, './data/saved.cpkt')\n",
    "\n",
    "# 키보드로 입력받은 데이터를 불러온 학습 모델에서 사용하기 위해 넘파이 배열로 만든다.\n",
    "data = [[avgTemp, minTemp, maxTemp, rainFall], ] # 2차원 리스트로 만든다.\n",
    "# new_data = np.array(data, dtype=np.float32)\n",
    "\n",
    "# 불러온 학습 모델을 키보드로 입력한 데이터를 적용시켜 입려된 데이터에 따른 배추 가격을 예측한다.\n",
    "result = sess.run(y, feed_dict={X: data})\n",
    "print('평균 온도: {0:4.1f}, 최저 온도: {1:4.1f}, 최고 온도\" : {2:4.1f}, 강수량: {3:4.1f}일 때 배추 가격은 {4:7,.1f}원 \\\n",
    "입니다.'.format(avgTemp, minTemp, maxTemp, rainFall, result[0][0]))"
   ]
  },
  {
   "cell_type": "code",
   "execution_count": null,
   "id": "5fc25abc",
   "metadata": {},
   "outputs": [],
   "source": []
  },
  {
   "cell_type": "code",
   "execution_count": null,
   "id": "4bdb5bf1",
   "metadata": {},
   "outputs": [],
   "source": []
  },
  {
   "cell_type": "code",
   "execution_count": null,
   "id": "e4f25526",
   "metadata": {},
   "outputs": [],
   "source": []
  },
  {
   "cell_type": "code",
   "execution_count": null,
   "id": "a2c9f22b",
   "metadata": {},
   "outputs": [],
   "source": []
  },
  {
   "cell_type": "code",
   "execution_count": null,
   "id": "54be43c0",
   "metadata": {},
   "outputs": [],
   "source": []
  },
  {
   "cell_type": "code",
   "execution_count": null,
   "id": "cc0cbe1f",
   "metadata": {},
   "outputs": [],
   "source": []
  }
 ],
 "metadata": {
  "kernelspec": {
   "display_name": "Python 3",
   "language": "python",
   "name": "python3"
  },
  "language_info": {
   "codemirror_mode": {
    "name": "ipython",
    "version": 3
   },
   "file_extension": ".py",
   "mimetype": "text/x-python",
   "name": "python",
   "nbconvert_exporter": "python",
   "pygments_lexer": "ipython3",
   "version": "3.9.5"
  }
 },
 "nbformat": 4,
 "nbformat_minor": 5
}
