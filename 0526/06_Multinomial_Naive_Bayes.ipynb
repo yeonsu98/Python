{
 "cells": [
  {
   "cell_type": "code",
   "execution_count": 1,
   "id": "12a4c1f4",
   "metadata": {},
   "outputs": [],
   "source": [
    "import warnings\n",
    "warnings.filterwarnings('ignore')"
   ]
  },
  {
   "cell_type": "markdown",
   "id": "6b69014c",
   "metadata": {},
   "source": [
    "다항분포 나이브 베이즈를 활용한 영화 리뷰 분류  \n",
    "영화 리뷰에 다항분포 나이브 베이즈를 활용해 영화 리뷰가 긍정적인지 부정적인지 분류한다."
   ]
  },
  {
   "cell_type": "code",
   "execution_count": 2,
   "id": "1b63aa95",
   "metadata": {},
   "outputs": [],
   "source": [
    "import numpy as np\n",
    "import pandas as pd\n",
    "# 다항분포 나이브 베이즈를 위한 라이브러리를 import 한다.\n",
    "from sklearn.feature_extraction.text import CountVectorizer\n",
    "from sklearn.naive_bayes import MultinomialNB\n",
    "# 모델 정확도 평가를 위해 import 한다.\n",
    "from sklearn.metrics import accuracy_score"
   ]
  },
  {
   "cell_type": "markdown",
   "id": "df3145b4",
   "metadata": {},
   "source": [
    "데이터 획득  \n",
    "movie_review: 영화 감상평, type: 감상평이 긍정적(positive)인지 부정적(negative)인지 나타낸다."
   ]
  },
  {
   "cell_type": "code",
   "execution_count": null,
   "id": "ff4cf7b3",
   "metadata": {},
   "outputs": [],
   "source": [
    "review_list = [\n",
    "    {'movie_review' : 'this is great great movie. I will watch again', 'type' : 'positive'},\n",
    "    {'movie_review' : 'I like this movie', 'type' : 'positive'},\n",
    "    {'movie_review' : 'amazing movie in this year', 'type' : 'positive'},\n",
    "    {'movie_review' : 'cool my boyfriend also said the movie is cool', 'type' : 'positive'},\n",
    "    {'movie_review' : 'awesome of the awesome movie ever', 'type' : 'positive'},\n",
    "    {'movie_review' : 'shame I wasted money and time', 'type' : 'negative'},\n",
    "    {'movie_review' : 'regret on this move. I will never never what movie from this director', 'type' : 'negative'},\n",
    "    {'movie_review' : 'I do not like this movie', 'type' : 'negative'},\n",
    "    {'movie_review' : 'I do not like actors in this movie', 'type' : 'negative'},\n",
    "    {'movie_review' : 'boring boring sleeping movie', 'type' : 'negative'}\n",
    "]"
   ]
  }
 ],
 "metadata": {
  "kernelspec": {
   "display_name": "Python 3",
   "language": "python",
   "name": "python3"
  },
  "language_info": {
   "codemirror_mode": {
    "name": "ipython",
    "version": 3
   },
   "file_extension": ".py",
   "mimetype": "text/x-python",
   "name": "python",
   "nbconvert_exporter": "python",
   "pygments_lexer": "ipython3",
   "version": "3.9.5"
  }
 },
 "nbformat": 4,
 "nbformat_minor": 5
}
