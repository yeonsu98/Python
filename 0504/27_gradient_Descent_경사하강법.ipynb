{
 "cells": [
  {
   "cell_type": "markdown",
   "id": "8eca0691",
   "metadata": {},
   "source": [
    "경사 하강법(Gradient Descent)  \n",
    "기울기를 너무 크게 잡으면 오차가 커지고 기울기를 너무 작게 잡으면 오차가 커진다.  \n",
    "기울기를 무한대로 키우면 오차도 무한대로 커지고 기울기를 무한대로 작게해도 오차는 무한대로 커진다."
   ]
  },
  {
   "cell_type": "code",
   "execution_count": 1,
   "id": "206192c0",
   "metadata": {},
   "outputs": [
    {
     "name": "stdout",
     "output_type": "stream",
     "text": [
      "WARNING:tensorflow:From d:\\python36\\lib\\site-packages\\tensorflow\\python\\compat\\v2_compat.py:96: disable_resource_variables (from tensorflow.python.ops.variable_scope) is deprecated and will be removed in a future version.\n",
      "Instructions for updating:\n",
      "non-resource variables are not supported in the long term\n"
     ]
    }
   ],
   "source": [
    "import warnings\n",
    "warnings.filterwarnings(\"ignore\")\n",
    "import numpy as np\n",
    "import pandas as pd\n",
    "import tensorflow.compat.v1 as tf\n",
    "tf.disable_v2_behavior()"
   ]
  },
  {
   "cell_type": "code",
   "execution_count": 2,
   "id": "b1e85c43",
   "metadata": {},
   "outputs": [],
   "source": [
    "# 학습 데이터를 만든다.\n",
    "data = [[2, 81], [4, 93], [6, 91], [8, 97]] # [공부한 시간(x), 실제 성적(y)]\n",
    "xData = [i[0] for i in data] # 공부한 시간\n",
    "yData = [i[1] for i in data] # 시험 성적"
   ]
  },
  {
   "cell_type": "code",
   "execution_count": 3,
   "id": "0cbfc79c",
   "metadata": {},
   "outputs": [
    {
     "name": "stdout",
     "output_type": "stream",
     "text": [
      "a: [5.624237], b: [70.81597]\n"
     ]
    }
   ],
   "source": [
    "# 기울기 a와 y절편 b를 임의로 정한다.\n",
    "# 기울기의 범위는 0 ~ 10 사이이며, y 절편의 범위는 0 ~ 100 사이에서 임의로(random) 변하게 한다.\n",
    "# random_uniform() : tensorflow에서 난수를 발생시키는 메소드\n",
    "# random_uniform([난수의 개수(차원)], 난수의 최대값, 난수의 최소값, dtype=난수의 데이터 타입, seed=숫자)\n",
    "# 난수 발생시 seed를 지정하면 항상 일정한 배열의 난수가 생성된다.\n",
    "a = tf.Variable(tf.random_uniform([1], 0, 10, dtype=tf.float32))\n",
    "b = tf.Variable(tf.random_uniform([1], 0, 100, dtype=tf.float32))\n",
    "sess = tf.Session()\n",
    "sess.run(tf.global_variables_initializer())\n",
    "print('a: {}, b: {}'.format(sess.run(a), sess.run(b)))"
   ]
  },
  {
   "cell_type": "code",
   "execution_count": 4,
   "id": "ae391409",
   "metadata": {},
   "outputs": [],
   "source": [
    "# 예측 성적(y)을 얻기위한 가설(수식)을 만든다.\n",
    "y = a * xData + b"
   ]
  },
  {
   "cell_type": "code",
   "execution_count": 5,
   "id": "c38dff73",
   "metadata": {},
   "outputs": [],
   "source": [
    "# tensorflow에서 실행할 RMSE(평균 제곱근 오차) 수식(오차 비용 함수)을 만든다.\n",
    "# tf.square(y - yData) => 예측 성적과 실제 성적의 편차의 제곱을 계산한다. => 오차가 무조건 양수로 나오게 한다.\n",
    "# tf.reduce_mean(tf.square(y - yData)) => 예측 성적과 실제 성적의 편차의 제곱의 평균을 계산한다.\n",
    "# tf.sqrt(tf.reduce_mean(tf.square(y - yData))) => 예측 성적과 실제 성적의 편차의 제곱의 평균에 대한 제곱근을 계산한다.\n",
    "rmse = tf.sqrt(tf.reduce_mean(tf.square(y - yData)))"
   ]
  },
  {
   "cell_type": "code",
   "execution_count": 6,
   "id": "00c62be1",
   "metadata": {},
   "outputs": [],
   "source": [
    "# 경사 하강법 알고리즘을 이용해서 RMSE(평균 제곱근 오차)를 최소로 하는 값을 찾는 수식을 만든다.\n",
    "# 학습율을 정한다.\n",
    "learning_rate = 0.1\n",
    "# GradientDescentOptimizer(학습율) : 학습율에 따라 경사 하강 알고리즘을 계산한다.\n",
    "gradient_descent = tf.train.GradientDescentOptimizer(learning_rate).minimize(rmse)"
   ]
  },
  {
   "cell_type": "markdown",
   "id": "dff6b876",
   "metadata": {},
   "source": [
    "학습을 시킨다."
   ]
  },
  {
   "cell_type": "code",
   "execution_count": 7,
   "id": "bfa50c84",
   "metadata": {
    "scrolled": false
   },
   "outputs": [
    {
     "name": "stdout",
     "output_type": "stream",
     "text": [
      "Epoch:    0, RMSE: 14.0893, 기울기:  7.3915, y절편: 45.7584\n",
      "Epoch:  200, RMSE: 10.7814, 기울기:  6.5642, y절편: 53.5532\n",
      "Epoch:  400, RMSE:  7.8573, 기울기:  5.3003, y절편: 61.0954\n",
      "Epoch:  600, RMSE:  5.2725, 기울기:  4.1124, y절편: 68.1842\n",
      "Epoch:  800, RMSE:  3.5398, 기울기:  3.1442, y절편: 73.9624\n",
      "Epoch: 1000, RMSE:  2.9742, 기울기:  2.6032, y절편: 77.1905\n",
      "Epoch: 1200, RMSE:  2.8912, 기울기:  2.3995, y절편: 78.4061\n",
      "Epoch: 1400, RMSE:  2.8820, 기울기:  2.3322, y절편: 78.8076\n",
      "Epoch: 1600, RMSE:  2.8811, 기울기:  2.3104, y절편: 78.9378\n",
      "Epoch: 1800, RMSE:  2.8810, 기울기:  2.3034, y절편: 78.9799\n",
      "Epoch: 2000, RMSE:  2.8810, 기울기:  2.3011, y절편: 78.9935\n",
      "Epoch: 2200, RMSE:  2.8810, 기울기:  2.3003, y절편: 78.9979\n",
      "Epoch: 2400, RMSE:  2.8810, 기울기:  2.3001, y절편: 78.9994\n",
      "Epoch: 2600, RMSE:  2.8810, 기울기:  2.3001, y절편: 78.9994\n",
      "Epoch: 2800, RMSE:  2.8810, 기울기:  2.3001, y절편: 78.9994\n",
      "Epoch: 3000, RMSE:  2.8810, 기울기:  2.3001, y절편: 78.9994\n"
     ]
    }
   ],
   "source": [
    "import time\n",
    "sess = tf.Session()\n",
    "sess.run(tf.global_variables_initializer())\n",
    "\n",
    "for i in range(3001):\n",
    "    sess.run(gradient_descent)\n",
    "    if i % 200 == 0:\n",
    "        # Epoch => 1번 학습을 의미하는 용어, RMSE, 기울기, y절편\n",
    "        # print('Epoch: {}, RMSE: {}, 기울기: {}, y절편: {}'.format(i, sess.run(rmse), sess.run(a), sess.run(b)))\n",
    "        # print('Epoch: {0:4d}, RMSE: {1:7.4f}, 기울기: {2:7.4f}, y절편: {3:7.4f}'.format(i, sess.run(rmse), \n",
    "        #                                                                            sess.run(a)[0], sess.run(b)[0]))\n",
    "        print('Epoch: %4d, RMSE: %7.4f, 기울기: %7.4f, y절편: %7.4f' % (i, sess.run(rmse), sess.run(a), sess.run(b)))\n",
    "        time.sleep(0.25)"
   ]
  },
  {
   "cell_type": "code",
   "execution_count": 11,
   "id": "cfae86bf",
   "metadata": {},
   "outputs": [
    {
     "data": {
      "image/png": "[encoded data removed]",
      "text/plain": [
       "<IPython.core.display.Image object>"
      ]
     },
     "execution_count": 11,
     "metadata": {
      "image/png": {
       "width": 1100
      }
     },
     "output_type": "execute_result"
    }
   ],
   "source": [
    "from IPython.display import Image\n",
    "Image('./gradient_descent.png', width=1100)"
   ]
  },
  {
   "cell_type": "code",
   "execution_count": null,
   "id": "44394c32",
   "metadata": {},
   "outputs": [],
   "source": []
  },
  {
   "cell_type": "code",
   "execution_count": null,
   "id": "ed46a973",
   "metadata": {},
   "outputs": [],
   "source": []
  },
  {
   "cell_type": "code",
   "execution_count": null,
   "id": "e48c41b8",
   "metadata": {},
   "outputs": [],
   "source": []
  },
  {
   "cell_type": "code",
   "execution_count": null,
   "id": "211114b0",
   "metadata": {},
   "outputs": [],
   "source": []
  }
 ],
 "metadata": {
  "kernelspec": {
   "display_name": "Python 3",
   "language": "python",
   "name": "python3"
  },
  "language_info": {
   "codemirror_mode": {
    "name": "ipython",
    "version": 3
   },
   "file_extension": ".py",
   "mimetype": "text/x-python",
   "name": "python",
   "nbconvert_exporter": "python",
   "pygments_lexer": "ipython3",
   "version": "3.6.8"
  }
 },
 "nbformat": 4,
 "nbformat_minor": 5
}
