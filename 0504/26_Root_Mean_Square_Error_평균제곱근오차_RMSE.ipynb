{
 "cells": [
  {
   "cell_type": "markdown",
   "id": "134fdbc3",
   "metadata": {},
   "source": [
    "평균 제곱근 오차(Root Mean Square Error, RMSE)  \n",
    "임의의 선을 그리고 난 후 이 선이 얼마나 잘 그려졌는지 평가해서 조금씩 수정해 나간다.  \n",
    "이를 위해서 주어진 선의 오차를 평가하는 알고리즘이 필요한데 그 중에서 가장 많이 사용되는 방법이 평균 제곱근 오차이다."
   ]
  },
  {
   "cell_type": "code",
   "execution_count": 1,
   "id": "aa878aef",
   "metadata": {},
   "outputs": [],
   "source": [
    "import warnings\n",
    "warnings.filterwarnings(\"ignore\")\n",
    "import numpy as np\n",
    "import pandas as pd"
   ]
  },
  {
   "cell_type": "code",
   "execution_count": 2,
   "id": "5c0ead9f",
   "metadata": {},
   "outputs": [
    {
     "name": "stdout",
     "output_type": "stream",
     "text": [
      "공부한 시간: 2, 실제 성적: 81\n",
      "공부한 시간: 4, 실제 성적: 93\n",
      "공부한 시간: 6, 실제 성적: 91\n",
      "공부한 시간: 8, 실제 성적: 97\n"
     ]
    }
   ],
   "source": [
    "# x, y의 데이터 값이 1건씩 저장된 리스트 => [공부한 시간(x), 실제 성적(y)]\n",
    "data = [[2, 81], [4, 93], [6, 91], [8, 97]]\n",
    "# 기울기 a와 y절편 b를 임의로 정한다. => [기울기, y절편]\n",
    "ab = [3, 76] # 2.3, 79\n",
    "\n",
    "for i in data:\n",
    "    print('공부한 시간: {}, 실제 성적: {}'.format(i[0], i[1]))"
   ]
  },
  {
   "cell_type": "code",
   "execution_count": 3,
   "id": "e7b7b8ec",
   "metadata": {},
   "outputs": [
    {
     "name": "stdout",
     "output_type": "stream",
     "text": [
      "공부한 시간: 2, 실제 성적: 81\n",
      "공부한 시간: 4, 실제 성적: 93\n",
      "공부한 시간: 6, 실제 성적: 91\n",
      "공부한 시간: 8, 실제 성적: 97\n"
     ]
    }
   ],
   "source": [
    "# x, y의 데이터 값이 1건씩 저장된 리스트에서 공부한 시간(x), 실제 성적(y)를 뽑아내서 별도의 리스트에 저장한다.\n",
    "x = [i[0] for i in data] # 공부한 시간\n",
    "y = [i[1] for i in data] # 시험 성적\n",
    "\n",
    "for i in range(len(x)):\n",
    "    print('공부한 시간: {}, 실제 성적: {}'.format(x[i], y[i]))"
   ]
  },
  {
   "cell_type": "code",
   "execution_count": 4,
   "id": "25ce868d",
   "metadata": {},
   "outputs": [],
   "source": [
    "# y = a * x + b에 a(기울기), b(y절편) 값을 대입해서 결과(예측 성적)를 계산하는 함수\n",
    "def predict(x):\n",
    "    return ab[0] * x + ab[1]"
   ]
  },
  {
   "cell_type": "code",
   "execution_count": 5,
   "id": "00bf666a",
   "metadata": {},
   "outputs": [
    {
     "name": "stdout",
     "output_type": "stream",
     "text": [
      "공부한 시간: 2, 실제 성적: 81, 예측 성적: 82\n",
      "공부한 시간: 4, 실제 성적: 93, 예측 성적: 88\n",
      "공부한 시간: 6, 실제 성적: 91, 예측 성적: 94\n",
      "공부한 시간: 8, 실제 성적: 97, 예측 성적: 100\n"
     ]
    }
   ],
   "source": [
    "# 임의로 정한 기울기와 y절편으로 예측 성적을 계산한다.\n",
    "# 임의로 정한 기울기와 y절편을 이용해 계산된 예측 성적이 저장될 빈 리스트를 만든다. => 빈 리스트에 데이터는 append() 메소드로\n",
    "# 추가시킨다.\n",
    "predict_result = []\n",
    "# 모든 공부 시간(x) 값을 한 번씩 대입해서 예측 성적(predict_result) 리스트를 완성한다.\n",
    "for i in range(len(x)):\n",
    "    # 공부한 시간에 따른 예측 성적을 계산하는 함수인 predict()를 실행해서 얻어진 예측 성적을 predict_result 리스트에 추가한다.\n",
    "    predict_result.append(predict(x[i]))\n",
    "    print('공부한 시간: {}, 실제 성적: {}, 예측 성적: {}'.format(x[i], y[i], predict_result[i]))"
   ]
  },
  {
   "cell_type": "code",
   "execution_count": 6,
   "id": "58a00f5f",
   "metadata": {},
   "outputs": [],
   "source": [
    "# 평균 제곱근 오차를 계산하는 함수\n",
    "# rmse(예측 성적, 실제 성적) => 인수로 넘겨받는 데이터는 넘파이 배열 타입의 데이터이다.\n",
    "def rmse(predict_result, y):\n",
    "    # 함수나 제어문의 외형만 만들고 실제 처리하는 부분을 구현하지 않으면 에러가 발생된다.\n",
    "    # 이 때, 아직 구현하지 않은 부분에 pass 예약어를 사용하면 에러가 발생되지 않는다.\n",
    "    # mean() : 넘파이에서 평균을 계산하는 함수\n",
    "    # sqrt() : 넘파이에서 제곱근을 계산하는 함수\n",
    "    return np.sqrt(((predict_result - y) ** 2).mean())"
   ]
  },
  {
   "cell_type": "code",
   "execution_count": 7,
   "id": "c3dd2b0a",
   "metadata": {},
   "outputs": [],
   "source": [
    "# 평균 제곱근 오차 함수를 각각의 y값에 대입해서 최종 결과(오차)를 계산하는 함수\n",
    "# 평균 제곱근 오차를 계산할 데이터를 넘파이 배열로 만들어 평균 제곱근 오차를 계산하는 함수(rmse())를 호출하는 함수\n",
    "def rmse_val(predict_result, y):\n",
    "    # 넘파이의 array() 메소드는 인수로 지정된 리스트 타입의 데이터를 넘파이 배열 형태로 변환한다.\n",
    "    # 넘파이 배열로 변환된 예측 성적과 실제 성적을 가지고 평균 제곱근 오차를 계산하는 함수를 실행해서 리턴된 결과를 리턴한다.\n",
    "    return rmse(np.array(predict_result), np.array(y))"
   ]
  },
  {
   "cell_type": "code",
   "execution_count": 8,
   "id": "8c971365",
   "metadata": {},
   "outputs": [
    {
     "name": "stdout",
     "output_type": "stream",
     "text": [
      "RMSE(평균 제곱근 오차): 3.3166247903554\n"
     ]
    }
   ],
   "source": [
    "# 최종 평균 제곱근 오차를 출력한다.\n",
    "rmse_result = rmse_val(predict_result, y)\n",
    "print('RMSE(평균 제곱근 오차): {}'.format(rmse_result))"
   ]
  },
  {
   "cell_type": "markdown",
   "id": "0cd5d914",
   "metadata": {},
   "source": [
    "임의로 지정한 기울기(a = 3)와 y절편(b = 76)은 3.3166247903554의 평균 제곱근 오차가 발생되는 것을 알 수 있다.  \n",
    "이제 남은 일은 이 오차를 줄이면서 새로운 선을 긋는 일이다.  \n",
    "이를 위해 기울기와 y절편을 적절히 조절하면서 오차의 변화를 살펴보고 오차가 최소가 되는 기울기와 y절편을 찾아야 한다.  \n",
    "25_least_square_approximation_최소제곱법 예제에서 계산했던 기울기와 y절편을 사용하면 2.880972058177584의 평균 제곱근 오차가 발생 된다."
   ]
  },
  {
   "cell_type": "code",
   "execution_count": null,
   "id": "588baad1",
   "metadata": {},
   "outputs": [],
   "source": []
  },
  {
   "cell_type": "code",
   "execution_count": null,
   "id": "cc1b52c6",
   "metadata": {},
   "outputs": [],
   "source": []
  },
  {
   "cell_type": "code",
   "execution_count": null,
   "id": "97133007",
   "metadata": {},
   "outputs": [],
   "source": []
  }
 ],
 "metadata": {
  "kernelspec": {
   "display_name": "Python 3",
   "language": "python",
   "name": "python3"
  },
  "language_info": {
   "codemirror_mode": {
    "name": "ipython",
    "version": 3
   },
   "file_extension": ".py",
   "mimetype": "text/x-python",
   "name": "python",
   "nbconvert_exporter": "python",
   "pygments_lexer": "ipython3",
   "version": "3.6.8"
  }
 },
 "nbformat": 4,
 "nbformat_minor": 5
}
