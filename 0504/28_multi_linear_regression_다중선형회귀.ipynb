{
 "cells": [
  {
   "cell_type": "code",
   "execution_count": 1,
   "id": "f84372c6",
   "metadata": {},
   "outputs": [
    {
     "name": "stdout",
     "output_type": "stream",
     "text": [
      "WARNING:tensorflow:From d:\\python36\\lib\\site-packages\\tensorflow\\python\\compat\\v2_compat.py:96: disable_resource_variables (from tensorflow.python.ops.variable_scope) is deprecated and will be removed in a future version.\n",
      "Instructions for updating:\n",
      "non-resource variables are not supported in the long term\n"
     ]
    }
   ],
   "source": [
    "import warnings\n",
    "warnings.filterwarnings(\"ignore\")\n",
    "import numpy as np\n",
    "import pandas as pd\n",
    "import tensorflow.compat.v1 as tf\n",
    "tf.disable_v2_behavior()"
   ]
  },
  {
   "cell_type": "code",
   "execution_count": 2,
   "id": "91440f47",
   "metadata": {},
   "outputs": [],
   "source": [
    "# [공부한 시간(x1), 과외 수업 시간(x2), 실제 성적(y)]\n",
    "data = [[2, 0, 81], [4, 4, 93], [6, 2, 91], [8, 3, 97]]\n",
    "xData1 = [i[0] for i in data] # 공부한 시간\n",
    "xData2 = [i[1] for i in data] # 과외 수업 시간\n",
    "yData  = [i[2] for i in data] # 실제 성적"
   ]
  },
  {
   "cell_type": "code",
   "execution_count": 3,
   "id": "7c6fb125",
   "metadata": {},
   "outputs": [
    {
     "name": "stdout",
     "output_type": "stream",
     "text": [
      "a1: [1.3803303], a2: [7.6496305], b: [65.38378]\n"
     ]
    }
   ],
   "source": [
    "# 기울기 a1, a2와 y절편 b를 임의의 값으로 정한다.\n",
    "# 단, 기울기의 범위는 0 ~ 10 사이이며 y절편의 범위는 0 ~ 100 사이이며 임의로 변한다.\n",
    "a1 = tf.Variable(tf.random_uniform([1], 0, 10, dtype=tf.float32))\n",
    "a2 = tf.Variable(tf.random_uniform([1], 0, 10, dtype=tf.float32))\n",
    "b  = tf.Variable(tf.random_uniform([1], 0, 100, dtype=tf.float32))\n",
    "sess = tf.Session()\n",
    "sess.run(tf.global_variables_initializer())\n",
    "print('a1: {}, a2: {}, b: {}'.format(sess.run(a1), sess.run(a2), sess.run(b)))"
   ]
  },
  {
   "cell_type": "code",
   "execution_count": 4,
   "id": "082ae2c0",
   "metadata": {},
   "outputs": [],
   "source": [
    "# 예측 성적(y)을 얻기위한 가설(수식)을 만든다.\n",
    "y = a1 * xData1 + a2 * xData2 + b\n",
    "# tensorflow에서 실행할 RMSE(평균 제곱근 오차) 수식(오차 비용 함수)을 만든다.\n",
    "rmse = tf.sqrt(tf.reduce_mean(tf.square(y - yData)))\n",
    "# 경사 하강법 알고리즘을 이용해서 RMSE(평균 제곱근 오차)를 최소로 하는 값을 찾는 수식을 만든다.\n",
    "gradient_descent = tf.train.GradientDescentOptimizer(0.1).minimize(rmse)"
   ]
  },
  {
   "cell_type": "code",
   "execution_count": 5,
   "id": "0f90f594",
   "metadata": {},
   "outputs": [
    {
     "name": "stdout",
     "output_type": "stream",
     "text": [
      "Epoch:    0, RMSE: 25.0656, 기울기1:  7.3392, 기울기2:  7.9297, y절편: 19.4484\n",
      "Epoch:  200, RMSE: 20.3270, 기울기1:  8.4057, 기울기2:  5.7650, y절편: 27.4941\n",
      "Epoch:  400, RMSE: 17.1237, 기울기1:  7.5872, 기울기2:  4.6438, y절편: 35.3719\n",
      "Epoch:  600, RMSE: 13.9500, 기울기1:  6.5235, 기울기2:  4.0647, y절편: 43.2458\n",
      "Epoch:  800, RMSE: 10.7789, 기울기1:  5.3926, 기울기2:  3.6346, y절편: 51.1171\n",
      "Epoch: 1000, RMSE:  7.6092, 기울기1:  4.2483, 기울기2:  3.2349, y절편: 58.9864\n",
      "Epoch: 1200, RMSE:  4.4434, 기울기1:  3.1030, 기울기2:  2.8392, y절편: 66.8507\n",
      "Epoch: 1400, RMSE:  1.3954, 기울기1:  1.8925, 기울기2:  2.4135, y절편: 74.6616\n",
      "Epoch: 1600, RMSE:  1.8369, 기울기1:  1.3135, 기울기2:  2.1923, y절편: 77.2540\n",
      "Epoch: 1800, RMSE:  1.8370, 기울기1:  1.2445, 기울기2:  2.1682, y절편: 77.7132\n",
      "Epoch: 2000, RMSE:  1.8370, 기울기1:  1.2326, 기울기2:  2.1641, y절편: 77.7943\n",
      "Epoch: 2200, RMSE:  1.8370, 기울기1:  1.2305, 기울기2:  2.1634, y절편: 77.8086\n",
      "Epoch: 2400, RMSE:  1.8370, 기울기1:  1.2302, 기울기2:  2.1633, y절편: 77.8112\n",
      "Epoch: 2600, RMSE:  1.8371, 기울기1:  1.2301, 기울기2:  2.1633, y절편: 77.8113\n",
      "Epoch: 2800, RMSE:  1.8371, 기울기1:  1.2301, 기울기2:  2.1633, y절편: 77.8113\n",
      "Epoch: 3000, RMSE:  1.8371, 기울기1:  1.2301, 기울기2:  2.1633, y절편: 77.8113\n"
     ]
    }
   ],
   "source": [
    "# 학습을 시킨다.\n",
    "import time\n",
    "sess = tf.Session()\n",
    "sess.run(tf.global_variables_initializer())\n",
    "\n",
    "for i in range(3001):\n",
    "    sess.run(gradient_descent)\n",
    "    if i % 200 == 0:\n",
    "        print('Epoch: %4d, RMSE: %7.4f, 기울기1: %7.4f, 기울기2: %7.4f, y절편: %7.4f' % (i, sess.run(rmse), sess.run(a1), \n",
    "                                                                                 sess.run(a2), sess.run(b)))\n",
    "        time.sleep(0.25)"
   ]
  },
  {
   "cell_type": "code",
   "execution_count": null,
   "id": "ccbb9169",
   "metadata": {},
   "outputs": [],
   "source": []
  },
  {
   "cell_type": "code",
   "execution_count": null,
   "id": "26518d7e",
   "metadata": {},
   "outputs": [],
   "source": []
  },
  {
   "cell_type": "code",
   "execution_count": null,
   "id": "1c25499c",
   "metadata": {},
   "outputs": [],
   "source": []
  },
  {
   "cell_type": "code",
   "execution_count": null,
   "id": "915b795f",
   "metadata": {},
   "outputs": [],
   "source": []
  }
 ],
 "metadata": {
  "kernelspec": {
   "display_name": "Python 3",
   "language": "python",
   "name": "python3"
  },
  "language_info": {
   "codemirror_mode": {
    "name": "ipython",
    "version": 3
   },
   "file_extension": ".py",
   "mimetype": "text/x-python",
   "name": "python",
   "nbconvert_exporter": "python",
   "pygments_lexer": "ipython3",
   "version": "3.6.8"
  }
 },
 "nbformat": 4,
 "nbformat_minor": 5
}
