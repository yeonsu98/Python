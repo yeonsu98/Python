{
 "cells": [
  {
   "cell_type": "code",
   "execution_count": 1,
   "metadata": {},
   "outputs": [
    {
     "name": "stdout",
     "output_type": "stream",
     "text": [
      "WARNING:tensorflow:From d:\\python36\\lib\\site-packages\\tensorflow\\python\\compat\\v2_compat.py:96: disable_resource_variables (from tensorflow.python.ops.variable_scope) is deprecated and will be removed in a future version.\n",
      "Instructions for updating:\n",
      "non-resource variables are not supported in the long term\n"
     ]
    }
   ],
   "source": [
    "import warnings\n",
    "warnings.filterwarnings(\"ignore\")\n",
    "import tensorflow.compat.v1 as tf\n",
    "tf.disable_v2_behavior()"
   ]
  },
  {
   "cell_type": "markdown",
   "metadata": {},
   "source": [
    "tensorflow 기본 함수"
   ]
  },
  {
   "cell_type": "code",
   "execution_count": 2,
   "metadata": {},
   "outputs": [],
   "source": [
    "sess = tf.Session()\n",
    "a = tf.constant(17.0)\n",
    "b = tf.constant(5.0)"
   ]
  },
  {
   "cell_type": "code",
   "execution_count": 3,
   "metadata": {},
   "outputs": [
    {
     "name": "stdout",
     "output_type": "stream",
     "text": [
      "tf.add(a, b) : 22.00\n",
      "tf.subtract(a, b) : 12.00\n",
      "tf.multiply(a, b) : 85.00\n",
      "tf.truediv(a, b) :  3.40\n",
      "tf.mod(a, b) :  2.00\n"
     ]
    }
   ],
   "source": [
    "c = tf.add(a, b)      # 덧셈\n",
    "print(\"tf.add(a, b) : {:5.2f}\".format(sess.run(c)))\n",
    "c = tf.subtract(a, b) # 뺄셈\n",
    "print(\"tf.subtract(a, b) : {:5.2f}\".format(sess.run(c)))\n",
    "c = tf.multiply(a, b) # 곱셈\n",
    "print(\"tf.multiply(a, b) : {:5.2f}\".format(sess.run(c)))\n",
    "c = tf.truediv(a, b)  # 나눗셈\n",
    "print(\"tf.truediv(a, b) : {:5.2f}\".format(sess.run(c)))\n",
    "c = tf.mod(a, b)      # 나머지\n",
    "print(\"tf.mod(a, b) : {:5.2f}\".format(sess.run(c)))"
   ]
  },
  {
   "cell_type": "code",
   "execution_count": 4,
   "metadata": {},
   "outputs": [
    {
     "name": "stdout",
     "output_type": "stream",
     "text": [
      "tf.abs(-a) : 17.00\n",
      "tf.abs(a) : 17.00\n",
      "tf.negative(a) : -17.00\n",
      "tf.negative(-a) : 17.00\n"
     ]
    }
   ],
   "source": [
    "c = tf.abs(-a)        # 절대값\n",
    "print(\"tf.abs(-a) : {:5.2f}\".format(sess.run(c)))\n",
    "c = tf.abs(a)\n",
    "print(\"tf.abs(a) : {:5.2f}\".format(sess.run(c)))\n",
    "c = tf.negative(a)    # 숫자를 음수로 변환한다.\n",
    "print(\"tf.negative(a) : {:5.2f}\".format(sess.run(c)))\n",
    "c = tf.negative(-a)\n",
    "print(\"tf.negative(-a) : {:5.2f}\".format(sess.run(c)))"
   ]
  },
  {
   "cell_type": "code",
   "execution_count": 5,
   "metadata": {},
   "outputs": [
    {
     "name": "stdout",
     "output_type": "stream",
     "text": [
      "tf.square(b) : 25.00\n",
      "tf.pow(b, 3) : 125.00\n",
      "tf.pow(b, 0.5) :  2.24\n",
      "tf.sqrt(b) :  2.24\n"
     ]
    }
   ],
   "source": [
    "c = tf.square(b)      # 제곱\n",
    "print(\"tf.square(b) : {:5.2f}\".format(sess.run(c)))\n",
    "c = tf.pow(b, 3)      # 거듭제곱\n",
    "print(\"tf.pow(b, 3) : {:5.2f}\".format(sess.run(c)))\n",
    "# 제곱근을 계산하려면 인수로 반드시 실수형의 데이터를 전달해야 한다.\n",
    "c = tf.pow(b, 0.5)\n",
    "print(\"tf.pow(b, 0.5) : {:5.2f}\".format(sess.run(c)))\n",
    "c = tf.sqrt(b)        # 제곱근\n",
    "print(\"tf.sqrt(b) : {:5.2f}\".format(sess.run(c)))"
   ]
  },
  {
   "cell_type": "code",
   "execution_count": 6,
   "metadata": {},
   "outputs": [
    {
     "name": "stdout",
     "output_type": "stream",
     "text": [
      "tf.maximum(a, b) : 17.00\n",
      "tf.minimum(a, b) :  5.00\n"
     ]
    }
   ],
   "source": [
    "c = tf.maximum(a, b)  # 최대값\n",
    "print(\"tf.maximum(a, b) : {:5.2f}\".format(sess.run(c)))\n",
    "c = tf.minimum(a, b)  # 최소값\n",
    "print(\"tf.minimum(a, b) : {:5.2f}\".format(sess.run(c)))"
   ]
  },
  {
   "cell_type": "code",
   "execution_count": 7,
   "metadata": {},
   "outputs": [
    {
     "name": "stdout",
     "output_type": "stream",
     "text": [
      "tf.exp(a) : 24154952.00\n",
      "tf.log(a) :  2.83\n",
      "tf.sin(a) : -0.96\n",
      "tf.cos(a) : -0.28\n",
      "tf.tan(a) :  2.83\n"
     ]
    }
   ],
   "source": [
    "c = tf.exp(a)         # 지수함수\n",
    "print(\"tf.exp(a) : {:5.2f}\".format(sess.run(c)))\n",
    "c = tf.log(a)         # 로그함수\n",
    "print(\"tf.log(a) : {:5.2f}\".format(sess.run(c)))\n",
    "c = tf.sin(a)         # 삼각함수\n",
    "print(\"tf.sin(a) : {:5.2f}\".format(sess.run(c)))\n",
    "c = tf.cos(a)         # 삼각함수\n",
    "print(\"tf.cos(a) : {:5.2f}\".format(sess.run(c)))\n",
    "c = tf.log(a)         # 삼각함수\n",
    "print(\"tf.tan(a) : {:5.2f}\".format(sess.run(c)))"
   ]
  },
  {
   "cell_type": "code",
   "execution_count": null,
   "metadata": {},
   "outputs": [],
   "source": []
  },
  {
   "cell_type": "code",
   "execution_count": null,
   "metadata": {},
   "outputs": [],
   "source": []
  },
  {
   "cell_type": "code",
   "execution_count": null,
   "metadata": {},
   "outputs": [],
   "source": []
  },
  {
   "cell_type": "code",
   "execution_count": null,
   "metadata": {},
   "outputs": [],
   "source": []
  },
  {
   "cell_type": "code",
   "execution_count": null,
   "metadata": {},
   "outputs": [],
   "source": []
  },
  {
   "cell_type": "code",
   "execution_count": null,
   "metadata": {},
   "outputs": [],
   "source": []
  }
 ],
 "metadata": {
  "kernelspec": {
   "display_name": "Python 3",
   "language": "python",
   "name": "python3"
  },
  "language_info": {
   "codemirror_mode": {
    "name": "ipython",
    "version": 3
   },
   "file_extension": ".py",
   "mimetype": "text/x-python",
   "name": "python",
   "nbconvert_exporter": "python",
   "pygments_lexer": "ipython3",
   "version": "3.6.8"
  }
 },
 "nbformat": 4,
 "nbformat_minor": 4
}
