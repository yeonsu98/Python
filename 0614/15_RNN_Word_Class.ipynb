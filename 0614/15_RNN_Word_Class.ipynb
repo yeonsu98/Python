{
 "cells": [
  {
   "cell_type": "code",
   "execution_count": 1,
   "id": "70d1089d",
   "metadata": {},
   "outputs": [],
   "source": [
    "import warnings\n",
    "warnings.filterwarnings('ignore')"
   ]
  },
  {
   "cell_type": "code",
   "execution_count": 2,
   "id": "547d5f0b",
   "metadata": {},
   "outputs": [
    {
     "name": "stdout",
     "output_type": "stream",
     "text": [
      "WARNING:tensorflow:From C:\\Users\\admin\\AppData\\Roaming\\Python\\Python39\\site-packages\\tensorflow\\python\\compat\\v2_compat.py:96: disable_resource_variables (from tensorflow.python.ops.variable_scope) is deprecated and will be removed in a future version.\n",
      "Instructions for updating:\n",
      "non-resource variables are not supported in the long term\n"
     ]
    }
   ],
   "source": [
    "import tensorflow.compat.v1 as tf\n",
    "tf.disable_v2_behavior()\n",
    "import numpy as np"
   ]
  },
  {
   "cell_type": "markdown",
   "id": "b7820240",
   "metadata": {},
   "source": [
    "단어 품사 구분하기  \n",
    "'I work at google', 'I google at work'의 단어 품사를 구분하는 RNN 코드를 텐서플로우로 구현한다.  \n",
    "각 단어는 one hot encoding으로 표현한다."
   ]
  },
  {
   "cell_type": "code",
   "execution_count": 4,
   "id": "8eb90e83",
   "metadata": {},
   "outputs": [
    {
     "data": {
      "text/plain": [
       "array([[[1, 0, 0, 0],\n",
       "        [0, 1, 0, 0],\n",
       "        [0, 0, 1, 0],\n",
       "        [0, 0, 0, 1]],\n",
       "\n",
       "       [[1, 0, 0, 0],\n",
       "        [0, 0, 0, 1],\n",
       "        [0, 0, 1, 0],\n",
       "        [0, 1, 0, 0]]])"
      ]
     },
     "execution_count": 4,
     "metadata": {},
     "output_type": "execute_result"
    }
   ],
   "source": [
    "# I      => [1, 0, 0, 0] # 대명사\n",
    "# work   => [0, 1, 0, 0] # 동사\n",
    "# at     => [0, 0, 1, 0] # 전치사\n",
    "# google => [0, 0, 0, 1] # 명사\n",
    "\n",
    "# I work at google => [[1, 0, 0, 0], [0, 1, 0, 0], [0, 0, 1, 0], [0, 0, 0, 1]]\n",
    "# I google at work => [[1, 0, 0, 0], [0, 0, 0, 1], [0, 0, 1, 0], [0, 1, 0, 0]]\n",
    "\n",
    "inputs = np.array([\n",
    "    [[1, 0, 0, 0], [0, 1, 0, 0], [0, 0, 1, 0], [0, 0, 0, 1]],\n",
    "    [[1, 0, 0, 0], [0, 0, 0, 1], [0, 0, 1, 0], [0, 1, 0, 0]]\n",
    "])\n",
    "inputs"
   ]
  },
  {
   "cell_type": "code",
   "execution_count": 11,
   "id": "42804f25",
   "metadata": {
    "scrolled": false
   },
   "outputs": [
    {
     "name": "stdout",
     "output_type": "stream",
     "text": [
      "출력값 개수: Tensor(\"rnn/transpose_1:0\", shape=(2, 4, 3), dtype=float32)\n",
      "상태값 개수: Tensor(\"rnn/while/Exit_3:0\", shape=(2, 3), dtype=float32)\n",
      "================================================================================\n",
      "가중치 개수와 편향값 개수\n",
      "<tf.Variable 'rnn/basic_rnn_cell/kernel:0' shape=(7, 3) dtype=float32_ref>\n",
      "<tf.Variable 'rnn/basic_rnn_cell/bias:0' shape=(3,) dtype=float32_ref>\n",
      "================================================================================\n",
      "출력값\n",
      "[[[ 0.37247857  0.27281666 -0.03415733]\n",
      "  [-0.12360744 -0.23688789 -0.07885218]\n",
      "  [-0.27765325 -0.14212623 -0.44862753]\n",
      "  [-0.7634894  -0.13153659 -0.1189682 ]]\n",
      "\n",
      " [[ 0.37247857  0.27281666 -0.03415733]\n",
      "  [-0.62467164  0.70083857  0.17365289]\n",
      "  [ 0.10053852  0.2770306   0.05076913]\n",
      "  [-0.05543748 -0.37285638 -0.04752919]]]\n",
      "\n",
      "상태값\n",
      "[[-0.7634894  -0.13153659 -0.1189682 ]\n",
      " [-0.05543748 -0.37285638 -0.04752919]]\n",
      "\n",
      "가중치와 편향값\n",
      "rnn/basic_rnn_cell/kernel:0\n",
      "[[ 0.39129794  0.27990448 -0.03417063]\n",
      " [-0.13734835 -0.6881115  -0.19269955]\n",
      " [-0.19838947  0.15787274 -0.3503854 ]\n",
      " [-0.74573535  0.42230952  0.06174737]\n",
      " [-0.07638937  0.737661   -0.0250259 ]\n",
      " [ 0.22168279  0.6998607   0.48419607]\n",
      " [ 0.55390215  0.55799115  0.26617455]]\n",
      "rnn/basic_rnn_cell/bias:0\n",
      "[0. 0. 0.]\n"
     ]
    }
   ],
   "source": [
    "tf.reset_default_graph()\n",
    "tf.set_random_seed(35)\n",
    "tf_inputs = tf.constant(inputs, dtype=tf.float32)\n",
    "rnn_cell = tf.nn.rnn_cell.BasicRNNCell(num_units=3)\n",
    "outputs, state = tf.nn.dynamic_rnn(cell=rnn_cell, dtype=tf.float32, inputs=tf_inputs)\n",
    "\n",
    "print('출력값 개수: {}'.format(outputs))\n",
    "print('상태값 개수: {}'.format(state))\n",
    "print('=' * 80)\n",
    "\n",
    "print('가중치 개수와 편향값 개수')\n",
    "for v in tf.get_collection(tf.GraphKeys.TRAINABLE_VARIABLES):\n",
    "    print(v)\n",
    "print('=' * 80)\n",
    "\n",
    "variable_names = [v.name for v in tf.trainable_variables()]\n",
    "with tf.Session() as sess:\n",
    "    sess.run(tf.global_variables_initializer())\n",
    "    output_run, state_run = sess.run([outputs, state])\n",
    "    print('출력값\\n{}\\n'.format(output_run))\n",
    "    print('상태값\\n{}\\n'.format(state_run))\n",
    "    print('가중치와 편향값')\n",
    "    values = sess.run(variable_names)\n",
    "    for k, v in zip(variable_names, values):\n",
    "        print('{}\\n{}'.format(k, v))"
   ]
  },
  {
   "cell_type": "markdown",
   "id": "57e4f18a",
   "metadata": {},
   "source": [
    "첫 단어 이전에는 이전 상태값이 존재하지 않기 때문에 두 문장의 첫 단어 출력값이 동일하다.  \n",
    "[ 0.37247857  0.27281666 -0.03415733]  \n",
    "\n",
    "이전 상태값이 현재 출력값에 영향을 주기 때문에 두 번째 단어부터의 출력값은 두 문장이 다르게 나타난다.  \n",
    "[-0.12360744 -0.23688789 -0.07885218]  \n",
    "[-0.27765325 -0.14212623 -0.44862753]  \n",
    "[-0.7634894  -0.13153659 -0.1189682 ] # 마지막 단어 출력값  \n",
    "\n",
    "[-0.62467164  0.70083857  0.17365289]  \n",
    "[ 0.10053852  0.2770306   0.05076913]  \n",
    "[-0.05543748 -0.37285638 -0.04752919] # 마지막 단어 출력값  \n",
    "\n",
    "상태값은 항상 마지막 단어의 출력값과 동일하다.  \n",
    "[-0.7634894  -0.13153659 -0.1189682 ]  \n",
    "[-0.05543748 -0.37285638 -0.04752919]"
   ]
  },
  {
   "cell_type": "code",
   "execution_count": null,
   "id": "7c84bc42",
   "metadata": {},
   "outputs": [],
   "source": []
  },
  {
   "cell_type": "code",
   "execution_count": null,
   "id": "2a4f5d54",
   "metadata": {},
   "outputs": [],
   "source": []
  },
  {
   "cell_type": "code",
   "execution_count": null,
   "id": "829a2477",
   "metadata": {},
   "outputs": [],
   "source": []
  },
  {
   "cell_type": "code",
   "execution_count": null,
   "id": "d5ba7799",
   "metadata": {},
   "outputs": [],
   "source": []
  },
  {
   "cell_type": "code",
   "execution_count": null,
   "id": "cf9752e5",
   "metadata": {},
   "outputs": [],
   "source": []
  }
 ],
 "metadata": {
  "kernelspec": {
   "display_name": "Python 3",
   "language": "python",
   "name": "python3"
  },
  "language_info": {
   "codemirror_mode": {
    "name": "ipython",
    "version": 3
   },
   "file_extension": ".py",
   "mimetype": "text/x-python",
   "name": "python",
   "nbconvert_exporter": "python",
   "pygments_lexer": "ipython3",
   "version": "3.9.5"
  }
 },
 "nbformat": 4,
 "nbformat_minor": 5
}
