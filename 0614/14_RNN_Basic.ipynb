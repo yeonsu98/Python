{
 "cells": [
  {
   "cell_type": "code",
   "execution_count": 1,
   "id": "66b9679b",
   "metadata": {},
   "outputs": [],
   "source": [
    "import warnings\n",
    "warnings.filterwarnings('ignore')"
   ]
  },
  {
   "cell_type": "code",
   "execution_count": 2,
   "id": "bad2eaa5",
   "metadata": {},
   "outputs": [
    {
     "name": "stdout",
     "output_type": "stream",
     "text": [
      "WARNING:tensorflow:From C:\\Users\\admin\\AppData\\Roaming\\Python\\Python39\\site-packages\\tensorflow\\python\\compat\\v2_compat.py:96: disable_resource_variables (from tensorflow.python.ops.variable_scope) is deprecated and will be removed in a future version.\n",
      "Instructions for updating:\n",
      "non-resource variables are not supported in the long term\n"
     ]
    }
   ],
   "source": [
    "import tensorflow.compat.v1 as tf\n",
    "tf.disable_v2_behavior()\n",
    "import numpy as np"
   ]
  },
  {
   "cell_type": "markdown",
   "id": "17abd1d2",
   "metadata": {},
   "source": [
    "RNN(Recurrent Neural Network) - 순환 신경망  \n",
    "RNN은 입력값(x), 출력값(output), 상태값(state), 가중치(w), 편향값(b) 그리고 활성화 함수(tanh)로 구성된다."
   ]
  },
  {
   "cell_type": "code",
   "execution_count": 3,
   "id": "777d472f",
   "metadata": {},
   "outputs": [
    {
     "data": {
      "image/png": "[encoded data removed]",
      "text/plain": [
       "<IPython.core.display.Image object>"
      ]
     },
     "execution_count": 3,
     "metadata": {
      "image/png": {
       "width": "800"
      }
     },
     "output_type": "execute_result"
    }
   ],
   "source": [
    "from IPython.display import Image\n",
    "Image('rnn.png', width='800')"
   ]
  },
  {
   "cell_type": "code",
   "execution_count": 12,
   "id": "86bfade4",
   "metadata": {},
   "outputs": [
    {
     "name": "stdout",
     "output_type": "stream",
     "text": [
      "(1, 1, 2)\n",
      "1\n",
      "================================================================================\n",
      "입력 데이터: [[[1. 2.]]]\n",
      "================================================================================\n",
      "RNN 셀의 개수: 3\n",
      "================================================================================\n",
      "출력값 개수: Tensor(\"rnn/transpose_1:0\", shape=(1, 1, 3), dtype=float32)\n",
      "상태값 개수: Tensor(\"rnn/while/Exit_3:0\", shape=(1, 3), dtype=float32)\n",
      "================================================================================\n",
      "가중치 개수와 편향값 개수\n",
      "<tf.Variable 'rnn/basic_rnn_cell/kernel:0' shape=(5, 3) dtype=float32_ref>\n",
      "<tf.Variable 'rnn/basic_rnn_cell/bias:0' shape=(3,) dtype=float32_ref>\n",
      "================================================================================\n",
      "출력값\n",
      "[[[-0.86154586 -0.69077307 -0.66940147]]]\n",
      "\n",
      "상태값\n",
      "[[-0.86154586 -0.69077307 -0.66940147]]\n",
      "\n",
      "가중치와 편향값\n",
      "rnn/basic_rnn_cell/kernel:0\n",
      "[[-0.60581434  0.04554379 -0.05184728]\n",
      " [-0.5220578  -0.54527855  0.1978231 ]\n",
      " [-0.36936402 -0.3568974  -0.26499468]\n",
      " [ 0.6830124  -0.75265324 -0.7705655 ]\n",
      " [ 0.00107181  0.50031275 -0.33132648]]\n",
      "rnn/basic_rnn_cell/bias:0\n",
      "[0. 0. 0.]\n"
     ]
    }
   ],
   "source": [
    "inputs = np.array([[[1, 2]]])\n",
    "print(inputs.shape)\n",
    "print(inputs.shape[0])\n",
    "print('=' * 80)\n",
    "\n",
    "# tf.reset_default_graph() 메소드로 현재 그래프에 이어 붙어서 동작하지 않도록 그래프를 초기화 한다.\n",
    "tf.reset_default_graph()\n",
    "tf.set_random_seed(35)\n",
    "\n",
    "tf_inputs = tf.constant(inputs, dtype=tf.float32)\n",
    "sess = tf.Session()\n",
    "print('입력 데이터: {}'.format(sess.run(tf_inputs)))\n",
    "print('=' * 80)\n",
    "\n",
    "# BasicRNNCell() 메소드의 인수로 사용할 hidden_state 개수를 지정해서 RNN 셀을 만든다.\n",
    "rnn_cell = tf.nn.rnn_cell.BasicRNNCell(num_units=3)\n",
    "print('RNN 셀의 개수: {}'.format(rnn_cell.state_size)) # RNN 셀의 개수\n",
    "print('=' * 80)\n",
    "\n",
    "# RNN 셀 초기화\n",
    "initial_state = tf.random_normal(shape=(inputs.shape[0], rnn_cell.state_size), mean=1.0)\n",
    "# dynamic_rnn() 메소드는 입력값과 RNN 셀을 받아 실행한 결과 값을 출력한다.\n",
    "outputs, state = tf.nn.dynamic_rnn(cell=rnn_cell, dtype=tf.float32, inputs=tf_inputs, initial_state=initial_state)\n",
    "print('출력값 개수: {}'.format(outputs))\n",
    "print('상태값 개수: {}'.format(state))\n",
    "print('=' * 80)\n",
    "\n",
    "print('가중치 개수와 편향값 개수')\n",
    "for v in tf.get_collection(tf.GraphKeys.TRAINABLE_VARIABLES):\n",
    "    print(v)\n",
    "print('=' * 80)\n",
    "\n",
    "variable_names = [v.name for v in tf.trainable_variables()]\n",
    "# for name in variable_names:\n",
    "    # print(name)\n",
    "with tf.Session() as sess:\n",
    "    sess.run(tf.global_variables_initializer())\n",
    "    output_run, state_run = sess.run([outputs, state])\n",
    "    print('출력값\\n{}\\n'.format(output_run))\n",
    "    print('상태값\\n{}\\n'.format(state_run))\n",
    "    print('가중치와 편향값')\n",
    "    values = sess.run(variable_names)\n",
    "    for k, v in zip(variable_names, values):\n",
    "        print('{}\\n{}'.format(k, v))"
   ]
  },
  {
   "cell_type": "markdown",
   "id": "8edf1b9f",
   "metadata": {},
   "source": [
    "RNN 셀의 출력값과 상태값이 동일하다.  \n",
    "입력값이 1 * 2 행렬이고 RNN의 상태값이 1 * 3 행렬일 경우 가중치는 총 5개의 행을 가지게 된다.  \n",
    "입력값이 1 * 2 행렬이고 RNN의 상태값이 1 * 3 행렬일 경우 편향값은 총 3개가 필요하다."
   ]
  },
  {
   "cell_type": "code",
   "execution_count": null,
   "id": "457a9f4d",
   "metadata": {},
   "outputs": [],
   "source": []
  },
  {
   "cell_type": "code",
   "execution_count": null,
   "id": "3c9bcbb0",
   "metadata": {},
   "outputs": [],
   "source": []
  },
  {
   "cell_type": "code",
   "execution_count": null,
   "id": "c0c59c29",
   "metadata": {},
   "outputs": [],
   "source": []
  },
  {
   "cell_type": "code",
   "execution_count": null,
   "id": "029ea6f3",
   "metadata": {},
   "outputs": [],
   "source": []
  },
  {
   "cell_type": "code",
   "execution_count": null,
   "id": "7b179f5f",
   "metadata": {},
   "outputs": [],
   "source": []
  },
  {
   "cell_type": "code",
   "execution_count": null,
   "id": "78ea756d",
   "metadata": {},
   "outputs": [],
   "source": []
  },
  {
   "cell_type": "code",
   "execution_count": null,
   "id": "43609201",
   "metadata": {},
   "outputs": [],
   "source": []
  },
  {
   "cell_type": "code",
   "execution_count": null,
   "id": "093ea680",
   "metadata": {},
   "outputs": [],
   "source": []
  },
  {
   "cell_type": "code",
   "execution_count": null,
   "id": "c1b39313",
   "metadata": {},
   "outputs": [],
   "source": []
  }
 ],
 "metadata": {
  "kernelspec": {
   "display_name": "Python 3",
   "language": "python",
   "name": "python3"
  },
  "language_info": {
   "codemirror_mode": {
    "name": "ipython",
    "version": 3
   },
   "file_extension": ".py",
   "mimetype": "text/x-python",
   "name": "python",
   "nbconvert_exporter": "python",
   "pygments_lexer": "ipython3",
   "version": "3.9.5"
  }
 },
 "nbformat": 4,
 "nbformat_minor": 5
}
