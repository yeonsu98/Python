{
 "cells": [
  {
   "cell_type": "code",
   "execution_count": 1,
   "id": "eafad760",
   "metadata": {},
   "outputs": [],
   "source": [
    "import warnings\n",
    "warnings.filterwarnings('ignore')"
   ]
  },
  {
   "cell_type": "markdown",
   "id": "8ae6ec4e",
   "metadata": {},
   "source": [
    "의사결정 트리(Decision tree)  \n",
    "데이터 분류 및 회귀에 사용되는 지도 학습 알고리즘으로 가장 큰 장점은 결과값이 어떻게 나왔는지 이해하기가 가장 쉽다는 것이다. 또한 높은 정확도 역시 상당히 큰 장점 중 하나이다. 하지만 과대 적합되기 쉬운 알고리즘이라는 단점도 있다.\n",
    "***\n",
    "의사결정 트리 알고리즘은 스므고개와 상당히 비슷하다. 데이터의 특징을 바탕으로 데이터를 연속적으로 분리하다 보면 결국 하나의 정답으로 데이터를 분류할 수 있는데 스므고개에서 적은 질문으로 정답을 맞추기 위해서는 의미 있는 질문을 먼저 하는 것이 중요하듯이 의사결정 트리에서도 의미 있는 질문을 먼저 하는 것이 상당히 중요하다. 데이터의 특징 속에서 분류에 큰 영향을 끼치는 특징을 발견하고 상위 노드로 선택하는 알고리즘이 의사결정 트리 알고리즘의 핵심이다.\n",
    "***\n",
    "스므고개를 할 때 질문자는 질문을 하나 던질 때마다 약간씩의 정보를 획득한다. 약간씩의 정보를 획득하는 과정은 정답에 대한 불확실성이 조금씩 줄어든다는 것과 같은 개념이다. 정보 이론(Information Theory)에서는 이 불확실성을 수치적으로 표현한 값을 엔트로피(Entropy)라고 표현하며 정보 이득(Information gain)은 질문 이전의 엔트로피에서 질문 후의 엔트로피를 뺀 값이된다. 즉 불확실성이 줄어든 정도를 정보 이득이라고 한다.\n",
    "***\n",
    "지니 계수(Gini Index)  \n",
    "P^2 + Q^2 으로 계산하며 불순도를 측정하는 지표로 데이터의 통계적 분산정도를 정량화해서 표현한 것을 의미한다.  \n",
    "사이킷런의 의사결정 트리는 CART(Classification And Regression Tree) 타입의 의사결정 트리이며 CART는 트리의 노드마다 특징을 이진 분류하는 특징이 있기에 사이킷런은 트리를 구성할 때 지니 계수를 사용한다."
   ]
  },
  {
   "cell_type": "markdown",
   "id": "fda9c0e7",
   "metadata": {},
   "source": [
    "문제 정의  \n",
    "서울 지역(구)의 경도와 위도 정보를 학습해서 임의로 입력된 지역(동)을 강동, 강서, 강남으로 분류하는 모델을 구현한다.  \n",
    "즉, 특정 지역이 강동구인지 강서구인지 아니면 강남구나 강북구인지 알아내는 모델을 구현하려 한다."
   ]
  },
  {
   "cell_type": "markdown",
   "id": "6e507d0c",
   "metadata": {},
   "source": [
    "데이터 획득  \n",
    "district : 구, dong : 동, latitude : 위도, longitude : 경도, label : 강동, 강서, 강남, 강북으로 구분한 지역"
   ]
  },
  {
   "cell_type": "code",
   "execution_count": 2,
   "id": "5b8dc0c9",
   "metadata": {},
   "outputs": [],
   "source": [
    "# 구 데이터 => 학습 데이터\n",
    "district_dict_list = [\n",
    "    {'district': 'Gangseo-gu', 'latitude': 37.551000, 'longitude': 126.849500, 'label':'Gangseo'},\n",
    "    {'district': 'Yangcheon-gu', 'latitude': 37.52424, 'longitude': 126.855396, 'label':'Gangseo'},\n",
    "    {'district': 'Guro-gu', 'latitude': 37.4954, 'longitude': 126.8874, 'label':'Gangseo'},\n",
    "    {'district': 'Geumcheon-gu', 'latitude': 37.4519, 'longitude': 126.9020, 'label':'Gangseo'},\n",
    "    {'district': 'Mapo-gu', 'latitude': 37.560229, 'longitude': 126.908728, 'label':'Gangseo'},\n",
    "\n",
    "    {'district': 'Gwanak-gu', 'latitude': 37.487517, 'longitude': 126.915065, 'label':'Gangnam'},\n",
    "    {'district': 'Dongjak-gu', 'latitude': 37.5124, 'longitude': 126.9393, 'label':'Gangnam'},\n",
    "    {'district': 'Seocho-gu', 'latitude': 37.4837, 'longitude': 127.0324, 'label':'Gangnam'},\n",
    "    {'district': 'Gangnam-gu', 'latitude': 37.5172, 'longitude': 127.0473, 'label':'Gangnam'},\n",
    "    {'district': 'Songpa-gu', 'latitude': 37.503510, 'longitude': 127.117898, 'label':'Gangnam'},\n",
    "\n",
    "    {'district': 'Yongsan-gu', 'latitude': 37.532561, 'longitude': 127.008605, 'label':'Gangbuk'},\n",
    "    {'district': 'Jongro-gu', 'latitude': 37.5730, 'longitude': 126.9794, 'label':'Gangbuk'},\n",
    "    {'district': 'Seongbuk-gu', 'latitude': 37.603979, 'longitude': 127.056344, 'label':'Gangbuk'},\n",
    "    {'district': 'Nowon-gu', 'latitude': 37.6542, 'longitude': 127.0568, 'label':'Gangbuk'},\n",
    "    {'district': 'Dobong-gu', 'latitude': 37.6688, 'longitude': 127.0471, 'label':'Gangbuk'},\n",
    "\n",
    "    {'district': 'Seongdong-gu', 'latitude': 37.557340, 'longitude': 127.041667, 'label':'Gangdong'},\n",
    "    {'district': 'Dongdaemun-gu', 'latitude': 37.575759, 'longitude': 127.025288, 'label':'Gangdong'},\n",
    "    {'district': 'Gwangjin-gu', 'latitude': 37.557562, 'longitude': 127.083467, 'label':'Gangdong'},\n",
    "    {'district': 'Gangdong-gu', 'latitude': 37.554194, 'longitude': 127.151405, 'label':'Gangdong'},\n",
    "    {'district': 'Jungrang-gu', 'latitude': 37.593684, 'longitude': 127.090384, 'label':'Gangdong'}\n",
    "]\n",
    "\n",
    "# 동 데이터 => 테스트 데이터\n",
    "dong_dict_list = [\n",
    "    {'dong': 'Gaebong-dong', 'latitude': 37.489853, 'longitude': 126.854547, 'label':'Gangseo'},\n",
    "    {'dong': 'Gochuk-dong', 'latitude': 37.501394, 'longitude': 126.859245, 'label':'Gangseo'},\n",
    "    {'dong': 'Hwagok-dong', 'latitude': 37.537759, 'longitude': 126.847951, 'label':'Gangseo'},\n",
    "    {'dong': 'Banghwa-dong', 'latitude': 37.575817, 'longitude': 126.815719, 'label':'Gangseo'},\n",
    "    {'dong': 'Sangam-dong', 'latitude': 37.577039, 'longitude': 126.891620, 'label':'Gangseo'},\n",
    "\n",
    "    {'dong': 'Nonhyun-dong', 'latitude': 37.508838, 'longitude': 127.030720, 'label':'Gangnam'},\n",
    "    {'dong': 'Daechi-dong', 'latitude': 37.501163, 'longitude': 127.057193, 'label':'Gangnam'},\n",
    "    {'dong': 'Seocho-dong', 'latitude': 37.486401, 'longitude': 127.018281, 'label':'Gangnam'},\n",
    "    {'dong': 'Bangbae-dong', 'latitude': 37.483279, 'longitude': 126.988194, 'label':'Gangnam'},\n",
    "    {'dong': 'Dogok-dong', 'latitude': 37.492896, 'longitude': 127.043159, 'label':'Gangnam'},\n",
    "\n",
    "    {'dong': 'Pyoungchang-dong', 'latitude': 37.612129, 'longitude': 126.975724, 'label':'Gangbuk'},\n",
    "    {'dong': 'Sungbuk-dong', 'latitude': 37.597916, 'longitude': 126.998067, 'label':'Gangbuk'},\n",
    "    {'dong': 'Ssangmoon-dong', 'latitude': 37.648094, 'longitude': 127.030421, 'label':'Gangbuk'},\n",
    "    {'dong': 'Ui-dong', 'latitude': 37.648446, 'longitude': 127.011396, 'label':'Gangbuk'},\n",
    "    {'dong': 'Samcheong-dong', 'latitude': 37.591109, 'longitude': 126.980488, 'label':'Gangbuk'},\n",
    "\n",
    "    {'dong': 'Hwayang-dong', 'latitude': 37.544234, 'longitude': 127.071648, 'label':'Gangdong'},\n",
    "    {'dong': 'Gui-dong', 'latitude': 37.543757, 'longitude': 127.086803, 'label':'Gangdong'},\n",
    "    {'dong': 'Neung-dong', 'latitude': 37.553102, 'longitude': 127.080248, 'label':'Gangdong'},\n",
    "    {'dong': 'Amsa-dong', 'latitude': 37.552370, 'longitude': 127.127124, 'label':'Gangdong'},\n",
    "    {'dong': 'Chunho-dong', 'latitude': 37.547436, 'longitude': 127.137382, 'label':'Gangdong'}\n",
    "]"
   ]
  },
  {
   "cell_type": "code",
   "execution_count": 3,
   "id": "e2b31362",
   "metadata": {},
   "outputs": [
    {
     "data": {
      "text/html": [
       "<div>\n",
       "<style scoped>\n",
       "    .dataframe tbody tr th:only-of-type {\n",
       "        vertical-align: middle;\n",
       "    }\n",
       "\n",
       "    .dataframe tbody tr th {\n",
       "        vertical-align: top;\n",
       "    }\n",
       "\n",
       "    .dataframe thead th {\n",
       "        text-align: right;\n",
       "    }\n",
       "</style>\n",
       "<table border=\"1\" class=\"dataframe\">\n",
       "  <thead>\n",
       "    <tr style=\"text-align: right;\">\n",
       "      <th></th>\n",
       "      <th>district</th>\n",
       "      <th>latitude</th>\n",
       "      <th>longitude</th>\n",
       "      <th>label</th>\n",
       "    </tr>\n",
       "  </thead>\n",
       "  <tbody>\n",
       "    <tr>\n",
       "      <th>0</th>\n",
       "      <td>Gangseo-gu</td>\n",
       "      <td>37.551000</td>\n",
       "      <td>126.849500</td>\n",
       "      <td>Gangseo</td>\n",
       "    </tr>\n",
       "    <tr>\n",
       "      <th>1</th>\n",
       "      <td>Yangcheon-gu</td>\n",
       "      <td>37.524240</td>\n",
       "      <td>126.855396</td>\n",
       "      <td>Gangseo</td>\n",
       "    </tr>\n",
       "    <tr>\n",
       "      <th>2</th>\n",
       "      <td>Guro-gu</td>\n",
       "      <td>37.495400</td>\n",
       "      <td>126.887400</td>\n",
       "      <td>Gangseo</td>\n",
       "    </tr>\n",
       "    <tr>\n",
       "      <th>3</th>\n",
       "      <td>Geumcheon-gu</td>\n",
       "      <td>37.451900</td>\n",
       "      <td>126.902000</td>\n",
       "      <td>Gangseo</td>\n",
       "    </tr>\n",
       "    <tr>\n",
       "      <th>4</th>\n",
       "      <td>Mapo-gu</td>\n",
       "      <td>37.560229</td>\n",
       "      <td>126.908728</td>\n",
       "      <td>Gangseo</td>\n",
       "    </tr>\n",
       "  </tbody>\n",
       "</table>\n",
       "</div>"
      ],
      "text/plain": [
       "       district   latitude   longitude    label\n",
       "0    Gangseo-gu  37.551000  126.849500  Gangseo\n",
       "1  Yangcheon-gu  37.524240  126.855396  Gangseo\n",
       "2       Guro-gu  37.495400  126.887400  Gangseo\n",
       "3  Geumcheon-gu  37.451900  126.902000  Gangseo\n",
       "4       Mapo-gu  37.560229  126.908728  Gangseo"
      ]
     },
     "execution_count": 3,
     "metadata": {},
     "output_type": "execute_result"
    }
   ],
   "source": [
    "import pandas as pd\n",
    "train_df = pd.DataFrame(district_dict_list)\n",
    "train_df.head()"
   ]
  },
  {
   "cell_type": "code",
   "execution_count": 4,
   "id": "e27c6bd7",
   "metadata": {},
   "outputs": [
    {
     "data": {
      "text/html": [
       "<div>\n",
       "<style scoped>\n",
       "    .dataframe tbody tr th:only-of-type {\n",
       "        vertical-align: middle;\n",
       "    }\n",
       "\n",
       "    .dataframe tbody tr th {\n",
       "        vertical-align: top;\n",
       "    }\n",
       "\n",
       "    .dataframe thead th {\n",
       "        text-align: right;\n",
       "    }\n",
       "</style>\n",
       "<table border=\"1\" class=\"dataframe\">\n",
       "  <thead>\n",
       "    <tr style=\"text-align: right;\">\n",
       "      <th></th>\n",
       "      <th>dong</th>\n",
       "      <th>latitude</th>\n",
       "      <th>longitude</th>\n",
       "      <th>label</th>\n",
       "    </tr>\n",
       "  </thead>\n",
       "  <tbody>\n",
       "    <tr>\n",
       "      <th>0</th>\n",
       "      <td>Gaebong-dong</td>\n",
       "      <td>37.489853</td>\n",
       "      <td>126.854547</td>\n",
       "      <td>Gangseo</td>\n",
       "    </tr>\n",
       "    <tr>\n",
       "      <th>1</th>\n",
       "      <td>Gochuk-dong</td>\n",
       "      <td>37.501394</td>\n",
       "      <td>126.859245</td>\n",
       "      <td>Gangseo</td>\n",
       "    </tr>\n",
       "    <tr>\n",
       "      <th>2</th>\n",
       "      <td>Hwagok-dong</td>\n",
       "      <td>37.537759</td>\n",
       "      <td>126.847951</td>\n",
       "      <td>Gangseo</td>\n",
       "    </tr>\n",
       "    <tr>\n",
       "      <th>3</th>\n",
       "      <td>Banghwa-dong</td>\n",
       "      <td>37.575817</td>\n",
       "      <td>126.815719</td>\n",
       "      <td>Gangseo</td>\n",
       "    </tr>\n",
       "    <tr>\n",
       "      <th>4</th>\n",
       "      <td>Sangam-dong</td>\n",
       "      <td>37.577039</td>\n",
       "      <td>126.891620</td>\n",
       "      <td>Gangseo</td>\n",
       "    </tr>\n",
       "  </tbody>\n",
       "</table>\n",
       "</div>"
      ],
      "text/plain": [
       "           dong   latitude   longitude    label\n",
       "0  Gaebong-dong  37.489853  126.854547  Gangseo\n",
       "1   Gochuk-dong  37.501394  126.859245  Gangseo\n",
       "2   Hwagok-dong  37.537759  126.847951  Gangseo\n",
       "3  Banghwa-dong  37.575817  126.815719  Gangseo\n",
       "4   Sangam-dong  37.577039  126.891620  Gangseo"
      ]
     },
     "execution_count": 4,
     "metadata": {},
     "output_type": "execute_result"
    }
   ],
   "source": [
    "test_df = pd.DataFrame(dong_dict_list)\n",
    "test_df.head()"
   ]
  },
  {
   "cell_type": "markdown",
   "id": "614c3d80",
   "metadata": {},
   "source": [
    "학습 데이터와 테스트 데이터의 레이블 분포를 확인한다."
   ]
  },
  {
   "cell_type": "code",
   "execution_count": 5,
   "id": "2811ace5",
   "metadata": {},
   "outputs": [
    {
     "name": "stdout",
     "output_type": "stream",
     "text": [
      "train_df.label\n",
      "Gangseo     5\n",
      "Gangdong    5\n",
      "Gangnam     5\n",
      "Gangbuk     5\n",
      "Name: label, dtype: int64\n",
      "test_df.label\n",
      "Gangseo     5\n",
      "Gangdong    5\n",
      "Gangnam     5\n",
      "Gangbuk     5\n",
      "Name: label, dtype: int64\n"
     ]
    }
   ],
   "source": [
    "print('train_df.label')\n",
    "print(train_df.label.value_counts())\n",
    "print('test_df.label')\n",
    "print(test_df.label.value_counts())\n",
    "# 학습 데이터의 레이블은 강남, 강북, 강서, 강동으로 총 4개 값으로 5개씩 일정한 양으로 분포되어 있음을 확인할 수 있다."
   ]
  },
  {
   "cell_type": "code",
   "execution_count": 6,
   "id": "d0780bd7",
   "metadata": {},
   "outputs": [],
   "source": [
    "import matplotlib.pyplot as plt\n",
    "import seaborn as sns\n",
    "%matplotlib inline"
   ]
  },
  {
   "cell_type": "code",
   "execution_count": 7,
   "id": "5065e096",
   "metadata": {},
   "outputs": [
    {
     "data": {
      "image/png": "[encoded data removed]",
      "text/plain": [
       "<Figure size 447.75x360 with 1 Axes>"
      ]
     },
     "metadata": {
      "needs_background": "light"
     },
     "output_type": "display_data"
    }
   ],
   "source": [
    "sns.lmplot(x='longitude', y='latitude', data=train_df, fit_reg=False, markers=['o', 'x', 's', '^'], hue='label',\n",
    "           scatter_kws={'s': 80})\n",
    "plt.title('district visualization in 2D plane')\n",
    "plt.show()"
   ]
  },
  {
   "cell_type": "markdown",
   "id": "c4dc40df",
   "metadata": {},
   "source": [
    "데이터 다듬기  \n",
    "위의 시각화를 통해 구 이름과 동 이름이 학습이나 테스트에 별 영향을 미치지 않는다는 점을 알았으므로 학습 및 테스트에 필요없는 특징을 데이터에서 제거한다."
   ]
  },
  {
   "cell_type": "code",
   "execution_count": 8,
   "id": "b15dcdc7",
   "metadata": {},
   "outputs": [],
   "source": [
    "# train_df = train_df.drop(['district'], axis=1)\n",
    "train_df.drop(['district'], axis=1, inplace=True) # 학습 데이터에서 구 제거\n",
    "test_df.drop(['dong'], axis=1, inplace=True)      # 테스트 데이터에서 동 제거"
   ]
  },
  {
   "cell_type": "code",
   "execution_count": 9,
   "id": "df6dbe4b",
   "metadata": {},
   "outputs": [],
   "source": [
    "X_train = train_df[['longitude', 'latitude']]\n",
    "Y_train = train_df[['label']]\n",
    "X_test = test_df[['longitude', 'latitude']]\n",
    "Y_test = test_df[['label']]"
   ]
  },
  {
   "cell_type": "markdown",
   "id": "53252b98",
   "metadata": {},
   "source": [
    "모델 학습  \n",
    "사이킷런의 의사결정 트리를 로드해서 학습한다."
   ]
  },
  {
   "cell_type": "code",
   "execution_count": 10,
   "id": "ac7e52f5",
   "metadata": {},
   "outputs": [],
   "source": [
    "import numpy as np\n",
    "from sklearn import tree\n",
    "from sklearn import preprocessing"
   ]
  },
  {
   "cell_type": "code",
   "execution_count": 11,
   "id": "b711d818",
   "metadata": {},
   "outputs": [
    {
     "name": "stdout",
     "output_type": "stream",
     "text": [
      "[3 3 3 3 3 2 2 2 2 2 0 0 0 0 0 1 1 1 1 1]\n"
     ]
    }
   ],
   "source": [
    "# sklearn.preprocessing에 포함된 LabelEncoder는 데이터를 모델화 시키고 학습을 시키기 위해서 숫자로 만든다.\n",
    "# Spain, Germany, France가 있는 경우 Spain은 0, Germany는 1, France는 2라고 정의하려 할 경우 사용한다.\n",
    "le = preprocessing.LabelEncoder()\n",
    "y_encoded = le.fit_transform(Y_train)\n",
    "print(y_encoded)\n",
    "\n",
    "# DecisionTreeClassifier() 메소드로 의사결정 트리를 학습시킨다.\n",
    "# DecisionTree의 내부 알고리즘이 구동시 random하게 특성들과 데이터 건수를 선탤하는 로직이 포함되어 있기 때문에 random_state로\n",
    "# 특정값을 지정하여 DecisionTree 수행시 마다 동일한 Rule의 트리를 만들 수 있도록 한다.\n",
    "clf = tree.DecisionTreeClassifier(random_state=35).fit(X_train, y_encoded)"
   ]
  },
  {
   "cell_type": "markdown",
   "id": "97e2f2ad",
   "metadata": {},
   "source": [
    "학습된 의사결정 트리를 시각화하는 함수"
   ]
  },
  {
   "cell_type": "code",
   "execution_count": 12,
   "id": "c8524599",
   "metadata": {},
   "outputs": [
    {
     "name": "stdout",
     "output_type": "stream",
     "text": [
      "[1 2 3]\n",
      "[4 5 6]\n",
      "[[1 4]\n",
      " [2 5]\n",
      " [3 6]]\n"
     ]
    }
   ],
   "source": [
    "print(np.array([1, 2, 3]))\n",
    "print(np.array([4, 5, 6]))\n",
    "# np.c_[a, b] => 두 개의 1차원 배열을 컬럼으로 세로로 붙여서 2차원 배열을 만든다.\n",
    "print(np.c_[np.array([1, 2, 3]), np.array([4, 5, 6])])"
   ]
  },
  {
   "cell_type": "code",
   "execution_count": 13,
   "id": "a5a5a0a1",
   "metadata": {},
   "outputs": [],
   "source": [
    "def pprint(arr):\n",
    "    print('type: {}'.format(type(arr)))\n",
    "    print('shape: {}, dimension: {}, dtype: {}'.format(arr.shape, arr.ndim, arr.dtype))\n",
    "    print('Array Data:\\n', arr)"
   ]
  },
  {
   "cell_type": "code",
   "execution_count": 14,
   "id": "bf753d8d",
   "metadata": {},
   "outputs": [],
   "source": [
    "def display_decision_surface(clf, x, y):\n",
    "    x_min = x.longitude.min() - 0.01\n",
    "    x_max = x.longitude.max() + 0.01\n",
    "    y_min = x.latitude.min() - 0.01\n",
    "    y_max = x.latitude.max() + 0.01\n",
    "    \n",
    "    # classes_ : LabelEncoder()를 실행했을 때 숫자로 대체된 문자열 그룹의 개수\n",
    "    n_classes = len(le.classes_)\n",
    "    # print('le.classes_ :', n_classes)\n",
    "    plot_color = 'rywb'\n",
    "    plot_step = 0.001\n",
    "    \n",
    "    # meshgrid() : 좌표 벡터로 부터 좌표 행렬을 반환한다.\n",
    "    xx, yy = np.meshgrid(np.arange(x_min, x_max, plot_step), np.arange(y_min, y_max, plot_step))\n",
    "    \n",
    "    # predict() : 학습 결과에 따라 예측을 한다.\n",
    "    Z = clf.predict(np.c_[xx.ravel(), yy.ravel()])\n",
    "    # pprint(Z)\n",
    "    Z = Z.reshape(xx.shape)\n",
    "    # pprint(Z)\n",
    "    plt.contourf(xx, yy, Z, cmap=plt.cm.RdYlBu) # 등고선 차트\n",
    "    \n",
    "    for i, color in zip(range(n_classes), plot_color):\n",
    "        # print(i, color)\n",
    "        # np.where() : 조건에 맞는 값의 색인 위치를 찾는다.\n",
    "        idx = np.where(y == i)\n",
    "        # print(idx)\n",
    "        plt.scatter(x=x.loc[idx].longitude, y=x.loc[idx].latitude, c=color, label=le.classes_[i], cmap=plt.cm.RdYlBu, \n",
    "                   edgecolor='black', s=100)\n",
    "\n",
    "    plt.title('Decision surface of a decision tree', fontsize=20) # 차트 제목\n",
    "    plt.legend(bbox_to_anchor=(1.05, 1), loc=2, borderaxespad=0, fontsize=14) # 범례\n",
    "    plt.xlabel('longitude', fontsize=15) # x축 제목\n",
    "    plt.ylabel('latitude', fontsize=15) # y축 제목\n",
    "    \n",
    "    plt.rcParams['figure.figsize'] = [7, 5] # 차트 크기\n",
    "    # plt.rcParams['font.size'] = 30 # x, y축 레이블의 크기를 동시에 지정한다.\n",
    "    plt.rcParams['xtick.labelsize'] = 10 # x축 레이블의 크기를 지정한다.\n",
    "    plt.rcParams['ytick.labelsize'] = 10 # y축 레이블의 크기를 지정한다.\n",
    "    plt.show()"
   ]
  },
  {
   "cell_type": "markdown",
   "id": "f592b916",
   "metadata": {},
   "source": [
    "의사 결정 트리는 과대 적합되기가 상당히 쉬운 모델이다.  \n",
    "사이킷런의 의사 결정 트리는 과대 적합을 피할 수 있도록 별도의 파라미터를 제공하는데 파라미터를 설정하지 않을 경우 모델은 학습되지만 과대 적합이 될 가능성이 높다.  \n",
    "여기서는 아무런 파라미터의 설정 없이 학습 데이터를 학습한 의사 결중 트리의 결정 표면을 시각화 해 보았다. 아래 차트는 강북 사이에 강동에 해당되는 데이터들이 보이는 것으로 봐서 학습 데이터에만 너무 치우치게 학습됐다. 즉, 과대 적합 되었다고 판단할 수 있다."
   ]
  },
  {
   "cell_type": "code",
   "execution_count": 15,
   "id": "d8c0cec2",
   "metadata": {},
   "outputs": [
    {
     "data": {
      "image/png": "[encoded data removed]",
      "text/plain": [
       "<Figure size 432x288 with 1 Axes>"
      ]
     },
     "metadata": {
      "needs_background": "light"
     },
     "output_type": "display_data"
    }
   ],
   "source": [
    "display_decision_surface(clf, X_train, y_encoded)"
   ]
  },
  {
   "cell_type": "code",
   "execution_count": 16,
   "id": "435605b0",
   "metadata": {},
   "outputs": [
    {
     "data": {
      "image/png": "[encoded data removed]",
      "text/plain": [
       "<Figure size 504x360 with 1 Axes>"
      ]
     },
     "metadata": {
      "needs_background": "light"
     },
     "output_type": "display_data"
    }
   ],
   "source": [
    "# 과대 적합을 피하기 위해 파라미터를 설정한다.\n",
    "# max_depth : 트리의 최대 깊이\n",
    "# min_samples_split : 자식 노드를 가지기 위한 최소한의 데이터 개수\n",
    "# min_samples_leaf : 리프 노드의 최소 데이터 개수\n",
    "# random_state : 동일한 정수를 입력했을 때 학습 결과를 항상 같게 만들어 준다.\n",
    "clf = tree.DecisionTreeClassifier(max_depth=4, min_samples_split=2, min_samples_leaf=2, \n",
    "                                  random_state=70).fit(X_train, y_encoded)\n",
    "display_decision_surface(clf, X_train, y_encoded)"
   ]
  },
  {
   "cell_type": "markdown",
   "id": "0381e6bf",
   "metadata": {},
   "source": [
    "의사 결정 트리 시각화  \n",
    "graphviz를 설치하려면 아래와 같은 과정을 먼저 실행해야 한다.  \n",
    "graphviz 웹 사이트에서 설치 파일(*.exe)을 다운로드 받아 설치한다.  \n",
    "pip install graphviz  \n",
    "path 시스템 환경 변수에 'C:\\Program Files\\Graphviz\\bin' 경로를 추가한다."
   ]
  },
  {
   "cell_type": "code",
   "execution_count": 17,
   "id": "1f2d8046",
   "metadata": {},
   "outputs": [],
   "source": [
    "import graphviz"
   ]
  },
  {
   "cell_type": "code",
   "execution_count": 18,
   "id": "fed98001",
   "metadata": {},
   "outputs": [
    {
     "data": {
      "image/svg+xml": [
       "<?xml version=\"1.0\" encoding=\"UTF-8\" standalone=\"no\"?>\r\n",
       "<!DOCTYPE svg PUBLIC \"-//W3C//DTD SVG 1.1//EN\"\r\n",
       " \"http://www.w3.org/Graphics/SVG/1.1/DTD/svg11.dtd\">\r\n",
       "<!-- Generated by graphviz version 2.47.1 (20210417.1919)\r\n",
       " -->\r\n",
       "<!-- Title: Tree Pages: 1 -->\r\n",
       "<svg width=\"432pt\" height=\"552pt\"\r\n",
       " viewBox=\"0.00 0.00 432.00 552.00\" xmlns=\"http://www.w3.org/2000/svg\" xmlns:xlink=\"http://www.w3.org/1999/xlink\">\r\n",
       "<g id=\"graph0\" class=\"graph\" transform=\"scale(1 1) rotate(0) translate(4 548)\">\r\n",
       "<title>Tree</title>\r\n",
       "<polygon fill=\"white\" stroke=\"transparent\" points=\"-4,4 -4,-548 428,-548 428,4 -4,4\"/>\r\n",
       "<!-- 0 -->\r\n",
       "<g id=\"node1\" class=\"node\">\r\n",
       "<title>0</title>\r\n",
       "<path fill=\"#ffffff\" stroke=\"black\" d=\"M196.5,-544C196.5,-544 77.5,-544 77.5,-544 71.5,-544 65.5,-538 65.5,-532 65.5,-532 65.5,-473 65.5,-473 65.5,-467 71.5,-461 77.5,-461 77.5,-461 196.5,-461 196.5,-461 202.5,-461 208.5,-467 208.5,-473 208.5,-473 208.5,-532 208.5,-532 208.5,-538 202.5,-544 196.5,-544\"/>\r\n",
       "<text text-anchor=\"start\" x=\"73.5\" y=\"-528.8\" font-family=\"Helvetica,sans-Serif\" font-size=\"14.00\">longitude ≤ 126.912</text>\r\n",
       "<text text-anchor=\"start\" x=\"103.5\" y=\"-513.8\" font-family=\"Helvetica,sans-Serif\" font-size=\"14.00\">gini = 0.75</text>\r\n",
       "<text text-anchor=\"start\" x=\"93.5\" y=\"-498.8\" font-family=\"Helvetica,sans-Serif\" font-size=\"14.00\">samples = 20</text>\r\n",
       "<text text-anchor=\"start\" x=\"81\" y=\"-483.8\" font-family=\"Helvetica,sans-Serif\" font-size=\"14.00\">value = [5, 5, 5, 5]</text>\r\n",
       "<text text-anchor=\"start\" x=\"84\" y=\"-468.8\" font-family=\"Helvetica,sans-Serif\" font-size=\"14.00\">class = Gangbuk</text>\r\n",
       "</g>\r\n",
       "<!-- 1 -->\r\n",
       "<g id=\"node2\" class=\"node\">\r\n",
       "<title>1</title>\r\n",
       "<path fill=\"#d739e5\" stroke=\"black\" d=\"M116,-417.5C116,-417.5 12,-417.5 12,-417.5 6,-417.5 0,-411.5 0,-405.5 0,-405.5 0,-361.5 0,-361.5 0,-355.5 6,-349.5 12,-349.5 12,-349.5 116,-349.5 116,-349.5 122,-349.5 128,-355.5 128,-361.5 128,-361.5 128,-405.5 128,-405.5 128,-411.5 122,-417.5 116,-417.5\"/>\r\n",
       "<text text-anchor=\"start\" x=\"35\" y=\"-402.3\" font-family=\"Helvetica,sans-Serif\" font-size=\"14.00\">gini = 0.0</text>\r\n",
       "<text text-anchor=\"start\" x=\"24.5\" y=\"-387.3\" font-family=\"Helvetica,sans-Serif\" font-size=\"14.00\">samples = 5</text>\r\n",
       "<text text-anchor=\"start\" x=\"8\" y=\"-372.3\" font-family=\"Helvetica,sans-Serif\" font-size=\"14.00\">value = [0, 0, 0, 5]</text>\r\n",
       "<text text-anchor=\"start\" x=\"10\" y=\"-357.3\" font-family=\"Helvetica,sans-Serif\" font-size=\"14.00\">class = Gangseo</text>\r\n",
       "</g>\r\n",
       "<!-- 0&#45;&gt;1 -->\r\n",
       "<g id=\"edge1\" class=\"edge\">\r\n",
       "<title>0&#45;&gt;1</title>\r\n",
       "<path fill=\"none\" stroke=\"black\" d=\"M111.67,-460.91C104.72,-449.76 97.17,-437.66 90.17,-426.44\"/>\r\n",
       "<polygon fill=\"black\" stroke=\"black\" points=\"92.96,-424.3 84.69,-417.67 87.02,-428 92.96,-424.3\"/>\r\n",
       "<text text-anchor=\"middle\" x=\"79.05\" y=\"-438.32\" font-family=\"Helvetica,sans-Serif\" font-size=\"14.00\">True</text>\r\n",
       "</g>\r\n",
       "<!-- 2 -->\r\n",
       "<g id=\"node3\" class=\"node\">\r\n",
       "<title>2</title>\r\n",
       "<path fill=\"#ffffff\" stroke=\"black\" d=\"M262,-425C262,-425 158,-425 158,-425 152,-425 146,-419 146,-413 146,-413 146,-354 146,-354 146,-348 152,-342 158,-342 158,-342 262,-342 262,-342 268,-342 274,-348 274,-354 274,-354 274,-413 274,-413 274,-419 268,-425 262,-425\"/>\r\n",
       "<text text-anchor=\"start\" x=\"157\" y=\"-409.8\" font-family=\"Helvetica,sans-Serif\" font-size=\"14.00\">latitude ≤ 37.525</text>\r\n",
       "<text text-anchor=\"start\" x=\"172.5\" y=\"-394.8\" font-family=\"Helvetica,sans-Serif\" font-size=\"14.00\">gini = 0.667</text>\r\n",
       "<text text-anchor=\"start\" x=\"166.5\" y=\"-379.8\" font-family=\"Helvetica,sans-Serif\" font-size=\"14.00\">samples = 15</text>\r\n",
       "<text text-anchor=\"start\" x=\"154\" y=\"-364.8\" font-family=\"Helvetica,sans-Serif\" font-size=\"14.00\">value = [5, 5, 5, 0]</text>\r\n",
       "<text text-anchor=\"start\" x=\"157\" y=\"-349.8\" font-family=\"Helvetica,sans-Serif\" font-size=\"14.00\">class = Gangbuk</text>\r\n",
       "</g>\r\n",
       "<!-- 0&#45;&gt;2 -->\r\n",
       "<g id=\"edge2\" class=\"edge\">\r\n",
       "<title>0&#45;&gt;2</title>\r\n",
       "<path fill=\"none\" stroke=\"black\" d=\"M162.33,-460.91C167.82,-452.1 173.69,-442.7 179.36,-433.61\"/>\r\n",
       "<polygon fill=\"black\" stroke=\"black\" points=\"182.39,-435.36 184.72,-425.02 176.45,-431.65 182.39,-435.36\"/>\r\n",
       "<text text-anchor=\"middle\" x=\"190.36\" y=\"-445.68\" font-family=\"Helvetica,sans-Serif\" font-size=\"14.00\">False</text>\r\n",
       "</g>\r\n",
       "<!-- 3 -->\r\n",
       "<g id=\"node4\" class=\"node\">\r\n",
       "<title>3</title>\r\n",
       "<path fill=\"#399de5\" stroke=\"black\" d=\"M189,-298.5C189,-298.5 85,-298.5 85,-298.5 79,-298.5 73,-292.5 73,-286.5 73,-286.5 73,-242.5 73,-242.5 73,-236.5 79,-230.5 85,-230.5 85,-230.5 189,-230.5 189,-230.5 195,-230.5 201,-236.5 201,-242.5 201,-242.5 201,-286.5 201,-286.5 201,-292.5 195,-298.5 189,-298.5\"/>\r\n",
       "<text text-anchor=\"start\" x=\"108\" y=\"-283.3\" font-family=\"Helvetica,sans-Serif\" font-size=\"14.00\">gini = 0.0</text>\r\n",
       "<text text-anchor=\"start\" x=\"97.5\" y=\"-268.3\" font-family=\"Helvetica,sans-Serif\" font-size=\"14.00\">samples = 5</text>\r\n",
       "<text text-anchor=\"start\" x=\"81\" y=\"-253.3\" font-family=\"Helvetica,sans-Serif\" font-size=\"14.00\">value = [0, 0, 5, 0]</text>\r\n",
       "<text text-anchor=\"start\" x=\"81.5\" y=\"-238.3\" font-family=\"Helvetica,sans-Serif\" font-size=\"14.00\">class = Gangnam</text>\r\n",
       "</g>\r\n",
       "<!-- 2&#45;&gt;3 -->\r\n",
       "<g id=\"edge3\" class=\"edge\">\r\n",
       "<title>2&#45;&gt;3</title>\r\n",
       "<path fill=\"none\" stroke=\"black\" d=\"M184.67,-341.91C177.72,-330.76 170.17,-318.66 163.17,-307.44\"/>\r\n",
       "<polygon fill=\"black\" stroke=\"black\" points=\"165.96,-305.3 157.69,-298.67 160.02,-309 165.96,-305.3\"/>\r\n",
       "</g>\r\n",
       "<!-- 4 -->\r\n",
       "<g id=\"node5\" class=\"node\">\r\n",
       "<title>4</title>\r\n",
       "<path fill=\"#ffffff\" stroke=\"black\" d=\"M335,-306C335,-306 231,-306 231,-306 225,-306 219,-300 219,-294 219,-294 219,-235 219,-235 219,-229 225,-223 231,-223 231,-223 335,-223 335,-223 341,-223 347,-229 347,-235 347,-235 347,-294 347,-294 347,-300 341,-306 335,-306\"/>\r\n",
       "<text text-anchor=\"start\" x=\"230\" y=\"-290.8\" font-family=\"Helvetica,sans-Serif\" font-size=\"14.00\">latitude ≤ 37.599</text>\r\n",
       "<text text-anchor=\"start\" x=\"254\" y=\"-275.8\" font-family=\"Helvetica,sans-Serif\" font-size=\"14.00\">gini = 0.5</text>\r\n",
       "<text text-anchor=\"start\" x=\"239.5\" y=\"-260.8\" font-family=\"Helvetica,sans-Serif\" font-size=\"14.00\">samples = 10</text>\r\n",
       "<text text-anchor=\"start\" x=\"227\" y=\"-245.8\" font-family=\"Helvetica,sans-Serif\" font-size=\"14.00\">value = [5, 5, 0, 0]</text>\r\n",
       "<text text-anchor=\"start\" x=\"230\" y=\"-230.8\" font-family=\"Helvetica,sans-Serif\" font-size=\"14.00\">class = Gangbuk</text>\r\n",
       "</g>\r\n",
       "<!-- 2&#45;&gt;4 -->\r\n",
       "<g id=\"edge4\" class=\"edge\">\r\n",
       "<title>2&#45;&gt;4</title>\r\n",
       "<path fill=\"none\" stroke=\"black\" d=\"M235.33,-341.91C240.82,-333.1 246.69,-323.7 252.36,-314.61\"/>\r\n",
       "<polygon fill=\"black\" stroke=\"black\" points=\"255.39,-316.36 257.72,-306.02 249.45,-312.65 255.39,-316.36\"/>\r\n",
       "</g>\r\n",
       "<!-- 5 -->\r\n",
       "<g id=\"node6\" class=\"node\">\r\n",
       "<title>5</title>\r\n",
       "<path fill=\"#91ef88\" stroke=\"black\" d=\"M265.5,-187C265.5,-187 146.5,-187 146.5,-187 140.5,-187 134.5,-181 134.5,-175 134.5,-175 134.5,-116 134.5,-116 134.5,-110 140.5,-104 146.5,-104 146.5,-104 265.5,-104 265.5,-104 271.5,-104 277.5,-110 277.5,-116 277.5,-116 277.5,-175 277.5,-175 277.5,-181 271.5,-187 265.5,-187\"/>\r\n",
       "<text text-anchor=\"start\" x=\"142.5\" y=\"-171.8\" font-family=\"Helvetica,sans-Serif\" font-size=\"14.00\">longitude ≤ 127.017</text>\r\n",
       "<text text-anchor=\"start\" x=\"168.5\" y=\"-156.8\" font-family=\"Helvetica,sans-Serif\" font-size=\"14.00\">gini = 0.408</text>\r\n",
       "<text text-anchor=\"start\" x=\"166.5\" y=\"-141.8\" font-family=\"Helvetica,sans-Serif\" font-size=\"14.00\">samples = 7</text>\r\n",
       "<text text-anchor=\"start\" x=\"150\" y=\"-126.8\" font-family=\"Helvetica,sans-Serif\" font-size=\"14.00\">value = [2, 5, 0, 0]</text>\r\n",
       "<text text-anchor=\"start\" x=\"148\" y=\"-111.8\" font-family=\"Helvetica,sans-Serif\" font-size=\"14.00\">class = Gangdong</text>\r\n",
       "</g>\r\n",
       "<!-- 4&#45;&gt;5 -->\r\n",
       "<g id=\"edge5\" class=\"edge\">\r\n",
       "<title>4&#45;&gt;5</title>\r\n",
       "<path fill=\"none\" stroke=\"black\" d=\"M256.29,-222.91C250.49,-214.1 244.3,-204.7 238.32,-195.61\"/>\r\n",
       "<polygon fill=\"black\" stroke=\"black\" points=\"241.09,-193.45 232.67,-187.02 235.24,-197.3 241.09,-193.45\"/>\r\n",
       "</g>\r\n",
       "<!-- 8 -->\r\n",
       "<g id=\"node9\" class=\"node\">\r\n",
       "<title>8</title>\r\n",
       "<path fill=\"#e58139\" stroke=\"black\" d=\"M412,-179.5C412,-179.5 308,-179.5 308,-179.5 302,-179.5 296,-173.5 296,-167.5 296,-167.5 296,-123.5 296,-123.5 296,-117.5 302,-111.5 308,-111.5 308,-111.5 412,-111.5 412,-111.5 418,-111.5 424,-117.5 424,-123.5 424,-123.5 424,-167.5 424,-167.5 424,-173.5 418,-179.5 412,-179.5\"/>\r\n",
       "<text text-anchor=\"start\" x=\"331\" y=\"-164.3\" font-family=\"Helvetica,sans-Serif\" font-size=\"14.00\">gini = 0.0</text>\r\n",
       "<text text-anchor=\"start\" x=\"320.5\" y=\"-149.3\" font-family=\"Helvetica,sans-Serif\" font-size=\"14.00\">samples = 3</text>\r\n",
       "<text text-anchor=\"start\" x=\"304\" y=\"-134.3\" font-family=\"Helvetica,sans-Serif\" font-size=\"14.00\">value = [3, 0, 0, 0]</text>\r\n",
       "<text text-anchor=\"start\" x=\"307\" y=\"-119.3\" font-family=\"Helvetica,sans-Serif\" font-size=\"14.00\">class = Gangbuk</text>\r\n",
       "</g>\r\n",
       "<!-- 4&#45;&gt;8 -->\r\n",
       "<g id=\"edge8\" class=\"edge\">\r\n",
       "<title>4&#45;&gt;8</title>\r\n",
       "<path fill=\"none\" stroke=\"black\" d=\"M309.71,-222.91C317.12,-211.65 325.17,-199.42 332.62,-188.11\"/>\r\n",
       "<polygon fill=\"black\" stroke=\"black\" points=\"335.6,-189.94 338.17,-179.67 329.75,-186.1 335.6,-189.94\"/>\r\n",
       "</g>\r\n",
       "<!-- 6 -->\r\n",
       "<g id=\"node7\" class=\"node\">\r\n",
       "<title>6</title>\r\n",
       "<path fill=\"#e58139\" stroke=\"black\" d=\"M184,-68C184,-68 80,-68 80,-68 74,-68 68,-62 68,-56 68,-56 68,-12 68,-12 68,-6 74,0 80,0 80,0 184,0 184,0 190,0 196,-6 196,-12 196,-12 196,-56 196,-56 196,-62 190,-68 184,-68\"/>\r\n",
       "<text text-anchor=\"start\" x=\"103\" y=\"-52.8\" font-family=\"Helvetica,sans-Serif\" font-size=\"14.00\">gini = 0.0</text>\r\n",
       "<text text-anchor=\"start\" x=\"92.5\" y=\"-37.8\" font-family=\"Helvetica,sans-Serif\" font-size=\"14.00\">samples = 2</text>\r\n",
       "<text text-anchor=\"start\" x=\"76\" y=\"-22.8\" font-family=\"Helvetica,sans-Serif\" font-size=\"14.00\">value = [2, 0, 0, 0]</text>\r\n",
       "<text text-anchor=\"start\" x=\"79\" y=\"-7.8\" font-family=\"Helvetica,sans-Serif\" font-size=\"14.00\">class = Gangbuk</text>\r\n",
       "</g>\r\n",
       "<!-- 5&#45;&gt;6 -->\r\n",
       "<g id=\"edge6\" class=\"edge\">\r\n",
       "<title>5&#45;&gt;6</title>\r\n",
       "<path fill=\"none\" stroke=\"black\" d=\"M178.45,-103.73C172.47,-94.88 166.13,-85.51 160.13,-76.63\"/>\r\n",
       "<polygon fill=\"black\" stroke=\"black\" points=\"163,-74.63 154.5,-68.3 157.2,-78.54 163,-74.63\"/>\r\n",
       "</g>\r\n",
       "<!-- 7 -->\r\n",
       "<g id=\"node8\" class=\"node\">\r\n",
       "<title>7</title>\r\n",
       "<path fill=\"#47e539\" stroke=\"black\" d=\"M334,-68C334,-68 226,-68 226,-68 220,-68 214,-62 214,-56 214,-56 214,-12 214,-12 214,-6 220,0 226,0 226,0 334,0 334,0 340,0 346,-6 346,-12 346,-12 346,-56 346,-56 346,-62 340,-68 334,-68\"/>\r\n",
       "<text text-anchor=\"start\" x=\"251\" y=\"-52.8\" font-family=\"Helvetica,sans-Serif\" font-size=\"14.00\">gini = 0.0</text>\r\n",
       "<text text-anchor=\"start\" x=\"240.5\" y=\"-37.8\" font-family=\"Helvetica,sans-Serif\" font-size=\"14.00\">samples = 5</text>\r\n",
       "<text text-anchor=\"start\" x=\"224\" y=\"-22.8\" font-family=\"Helvetica,sans-Serif\" font-size=\"14.00\">value = [0, 5, 0, 0]</text>\r\n",
       "<text text-anchor=\"start\" x=\"222\" y=\"-7.8\" font-family=\"Helvetica,sans-Serif\" font-size=\"14.00\">class = Gangdong</text>\r\n",
       "</g>\r\n",
       "<!-- 5&#45;&gt;7 -->\r\n",
       "<g id=\"edge7\" class=\"edge\">\r\n",
       "<title>5&#45;&gt;7</title>\r\n",
       "<path fill=\"none\" stroke=\"black\" d=\"M233.55,-103.73C239.53,-94.88 245.87,-85.51 251.87,-76.63\"/>\r\n",
       "<polygon fill=\"black\" stroke=\"black\" points=\"254.8,-78.54 257.5,-68.3 249,-74.63 254.8,-78.54\"/>\r\n",
       "</g>\r\n",
       "</g>\r\n",
       "</svg>\r\n"
      ],
      "text/plain": [
       "<graphviz.files.Source at 0x1785057ed60>"
      ]
     },
     "execution_count": 18,
     "metadata": {},
     "output_type": "execute_result"
    }
   ],
   "source": [
    "dot_data = tree.export_graphviz(clf, out_file=None, feature_names=['longitude', 'latitude'],\n",
    "                               class_names=['Gangbuk', 'Gangdong', 'Gangnam', 'Gangseo'], filled=True, rounded=True,\n",
    "                               special_characters=True)\n",
    "graph = graphviz.Source(dot_data)\n",
    "graph.render('seoul') # 랜더링된 의사 결정 트리를 pdf 파일로 생성한다.\n",
    "graph"
   ]
  },
  {
   "cell_type": "markdown",
   "id": "15fdc0d2",
   "metadata": {},
   "source": [
    "모델 테스트"
   ]
  },
  {
   "cell_type": "code",
   "execution_count": 19,
   "id": "3c1ec297",
   "metadata": {},
   "outputs": [
    {
     "name": "stdout",
     "output_type": "stream",
     "text": [
      "정확도 : 1.0\n"
     ]
    }
   ],
   "source": [
    "from sklearn.metrics import accuracy_score\n",
    "\n",
    "pred = clf.predict(X_test) # 모델 정확도를 예측한다.\n",
    "print('정확도 : ' + str(accuracy_score(Y_test.values.ravel(), le.classes_[pred]))) # 정확도를 출력한다."
   ]
  },
  {
   "cell_type": "code",
   "execution_count": 20,
   "id": "8098e1e4",
   "metadata": {},
   "outputs": [
    {
     "data": {
      "text/html": [
       "<div>\n",
       "<style scoped>\n",
       "    .dataframe tbody tr th:only-of-type {\n",
       "        vertical-align: middle;\n",
       "    }\n",
       "\n",
       "    .dataframe tbody tr th {\n",
       "        vertical-align: top;\n",
       "    }\n",
       "\n",
       "    .dataframe thead th {\n",
       "        text-align: right;\n",
       "    }\n",
       "</style>\n",
       "<table border=\"1\" class=\"dataframe\">\n",
       "  <thead>\n",
       "    <tr style=\"text-align: right;\">\n",
       "      <th></th>\n",
       "      <th>예측값</th>\n",
       "      <th>실제값</th>\n",
       "    </tr>\n",
       "  </thead>\n",
       "  <tbody>\n",
       "    <tr>\n",
       "      <th>0</th>\n",
       "      <td>Gangseo</td>\n",
       "      <td>Gangseo</td>\n",
       "    </tr>\n",
       "    <tr>\n",
       "      <th>1</th>\n",
       "      <td>Gangseo</td>\n",
       "      <td>Gangseo</td>\n",
       "    </tr>\n",
       "    <tr>\n",
       "      <th>2</th>\n",
       "      <td>Gangseo</td>\n",
       "      <td>Gangseo</td>\n",
       "    </tr>\n",
       "    <tr>\n",
       "      <th>3</th>\n",
       "      <td>Gangseo</td>\n",
       "      <td>Gangseo</td>\n",
       "    </tr>\n",
       "    <tr>\n",
       "      <th>4</th>\n",
       "      <td>Gangseo</td>\n",
       "      <td>Gangseo</td>\n",
       "    </tr>\n",
       "    <tr>\n",
       "      <th>5</th>\n",
       "      <td>Gangnam</td>\n",
       "      <td>Gangnam</td>\n",
       "    </tr>\n",
       "    <tr>\n",
       "      <th>6</th>\n",
       "      <td>Gangnam</td>\n",
       "      <td>Gangnam</td>\n",
       "    </tr>\n",
       "    <tr>\n",
       "      <th>7</th>\n",
       "      <td>Gangnam</td>\n",
       "      <td>Gangnam</td>\n",
       "    </tr>\n",
       "    <tr>\n",
       "      <th>8</th>\n",
       "      <td>Gangnam</td>\n",
       "      <td>Gangnam</td>\n",
       "    </tr>\n",
       "    <tr>\n",
       "      <th>9</th>\n",
       "      <td>Gangnam</td>\n",
       "      <td>Gangnam</td>\n",
       "    </tr>\n",
       "    <tr>\n",
       "      <th>10</th>\n",
       "      <td>Gangbuk</td>\n",
       "      <td>Gangbuk</td>\n",
       "    </tr>\n",
       "    <tr>\n",
       "      <th>11</th>\n",
       "      <td>Gangbuk</td>\n",
       "      <td>Gangbuk</td>\n",
       "    </tr>\n",
       "    <tr>\n",
       "      <th>12</th>\n",
       "      <td>Gangbuk</td>\n",
       "      <td>Gangbuk</td>\n",
       "    </tr>\n",
       "    <tr>\n",
       "      <th>13</th>\n",
       "      <td>Gangbuk</td>\n",
       "      <td>Gangbuk</td>\n",
       "    </tr>\n",
       "    <tr>\n",
       "      <th>14</th>\n",
       "      <td>Gangbuk</td>\n",
       "      <td>Gangbuk</td>\n",
       "    </tr>\n",
       "    <tr>\n",
       "      <th>15</th>\n",
       "      <td>Gangdong</td>\n",
       "      <td>Gangdong</td>\n",
       "    </tr>\n",
       "    <tr>\n",
       "      <th>16</th>\n",
       "      <td>Gangdong</td>\n",
       "      <td>Gangdong</td>\n",
       "    </tr>\n",
       "    <tr>\n",
       "      <th>17</th>\n",
       "      <td>Gangdong</td>\n",
       "      <td>Gangdong</td>\n",
       "    </tr>\n",
       "    <tr>\n",
       "      <th>18</th>\n",
       "      <td>Gangdong</td>\n",
       "      <td>Gangdong</td>\n",
       "    </tr>\n",
       "    <tr>\n",
       "      <th>19</th>\n",
       "      <td>Gangdong</td>\n",
       "      <td>Gangdong</td>\n",
       "    </tr>\n",
       "  </tbody>\n",
       "</table>\n",
       "</div>"
      ],
      "text/plain": [
       "         예측값       실제값\n",
       "0    Gangseo   Gangseo\n",
       "1    Gangseo   Gangseo\n",
       "2    Gangseo   Gangseo\n",
       "3    Gangseo   Gangseo\n",
       "4    Gangseo   Gangseo\n",
       "5    Gangnam   Gangnam\n",
       "6    Gangnam   Gangnam\n",
       "7    Gangnam   Gangnam\n",
       "8    Gangnam   Gangnam\n",
       "9    Gangnam   Gangnam\n",
       "10   Gangbuk   Gangbuk\n",
       "11   Gangbuk   Gangbuk\n",
       "12   Gangbuk   Gangbuk\n",
       "13   Gangbuk   Gangbuk\n",
       "14   Gangbuk   Gangbuk\n",
       "15  Gangdong  Gangdong\n",
       "16  Gangdong  Gangdong\n",
       "17  Gangdong  Gangdong\n",
       "18  Gangdong  Gangdong\n",
       "19  Gangdong  Gangdong"
      ]
     },
     "execution_count": 20,
     "metadata": {},
     "output_type": "execute_result"
    }
   ],
   "source": [
    "comparison = pd.DataFrame({'예측값': le.classes_[pred], '실제값': Y_test.values.ravel()})\n",
    "comparison"
   ]
  },
  {
   "cell_type": "code",
   "execution_count": 25,
   "id": "aa121a45",
   "metadata": {},
   "outputs": [],
   "source": [
    "# 정확도 예측 후 임의의 내용으로 테스트 데이터를 만든다.\n",
    "dong_dict_list = [\n",
    "    {'latitude': 37.489853, 'longitude': 126.854547, 'label':'Gangseo'},\n",
    "    {'latitude': 37.501394, 'longitude': 126.859245, 'label':'Gangnam'},\n",
    "    {'latitude': 37.537759, 'longitude': 126.847951, 'label':'Gangseo'},\n",
    "    {'latitude': 37.575817, 'longitude': 126.815719, 'label':'Gangdong'},\n",
    "    {'latitude': 37.577039, 'longitude': 126.891620, 'label':'Gangseo'}\n",
    "]\n",
    "\n",
    "test_df = pd.DataFrame(dong_dict_list)\n",
    "X_test = test_df[['longitude', 'latitude']]\n",
    "Y_test = test_df[['label']]"
   ]
  },
  {
   "cell_type": "code",
   "execution_count": 26,
   "id": "8c9c03e2",
   "metadata": {},
   "outputs": [
    {
     "name": "stdout",
     "output_type": "stream",
     "text": [
      "정확도 : 0.6\n"
     ]
    },
    {
     "data": {
      "text/html": [
       "<div>\n",
       "<style scoped>\n",
       "    .dataframe tbody tr th:only-of-type {\n",
       "        vertical-align: middle;\n",
       "    }\n",
       "\n",
       "    .dataframe tbody tr th {\n",
       "        vertical-align: top;\n",
       "    }\n",
       "\n",
       "    .dataframe thead th {\n",
       "        text-align: right;\n",
       "    }\n",
       "</style>\n",
       "<table border=\"1\" class=\"dataframe\">\n",
       "  <thead>\n",
       "    <tr style=\"text-align: right;\">\n",
       "      <th></th>\n",
       "      <th>예측값</th>\n",
       "      <th>실제값</th>\n",
       "    </tr>\n",
       "  </thead>\n",
       "  <tbody>\n",
       "    <tr>\n",
       "      <th>0</th>\n",
       "      <td>Gangseo</td>\n",
       "      <td>Gangseo</td>\n",
       "    </tr>\n",
       "    <tr>\n",
       "      <th>1</th>\n",
       "      <td>Gangseo</td>\n",
       "      <td>Gangnam</td>\n",
       "    </tr>\n",
       "    <tr>\n",
       "      <th>2</th>\n",
       "      <td>Gangseo</td>\n",
       "      <td>Gangseo</td>\n",
       "    </tr>\n",
       "    <tr>\n",
       "      <th>3</th>\n",
       "      <td>Gangseo</td>\n",
       "      <td>Gangdong</td>\n",
       "    </tr>\n",
       "    <tr>\n",
       "      <th>4</th>\n",
       "      <td>Gangseo</td>\n",
       "      <td>Gangseo</td>\n",
       "    </tr>\n",
       "  </tbody>\n",
       "</table>\n",
       "</div>"
      ],
      "text/plain": [
       "       예측값       실제값\n",
       "0  Gangseo   Gangseo\n",
       "1  Gangseo   Gangnam\n",
       "2  Gangseo   Gangseo\n",
       "3  Gangseo  Gangdong\n",
       "4  Gangseo   Gangseo"
      ]
     },
     "execution_count": 26,
     "metadata": {},
     "output_type": "execute_result"
    }
   ],
   "source": [
    "# 임의의 내용에 대한 학습을 시킨다.\n",
    "pred = clf.predict(X_test)\n",
    "print('정확도 : ' + str(accuracy_score(Y_test.values.ravel(), le.classes_[pred])))\n",
    "comparison = pd.DataFrame({'예측값': le.classes_[pred], '실제값': Y_test.values.ravel()})\n",
    "comparison"
   ]
  },
  {
   "cell_type": "code",
   "execution_count": null,
   "id": "419a0976",
   "metadata": {},
   "outputs": [],
   "source": []
  },
  {
   "cell_type": "code",
   "execution_count": null,
   "id": "46ea3e64",
   "metadata": {},
   "outputs": [],
   "source": []
  },
  {
   "cell_type": "code",
   "execution_count": null,
   "id": "033b299c",
   "metadata": {},
   "outputs": [],
   "source": []
  }
 ],
 "metadata": {
  "kernelspec": {
   "display_name": "Python 3",
   "language": "python",
   "name": "python3"
  },
  "language_info": {
   "codemirror_mode": {
    "name": "ipython",
    "version": 3
   },
   "file_extension": ".py",
   "mimetype": "text/x-python",
   "name": "python",
   "nbconvert_exporter": "python",
   "pygments_lexer": "ipython3",
   "version": "3.9.5"
  }
 },
 "nbformat": 4,
 "nbformat_minor": 5
}
