{
 "cells": [
  {
   "cell_type": "code",
   "execution_count": 1,
   "id": "5e592f18",
   "metadata": {},
   "outputs": [],
   "source": [
    "import warnings\n",
    "warnings.filterwarnings('ignore')"
   ]
  },
  {
   "cell_type": "markdown",
   "id": "4cbc5d46",
   "metadata": {},
   "source": [
    "MNIST 손글씨 데이터셋을 사용해 단일 모델들을 앙상블해서 투표를 통해 예측해본다"
   ]
  },
  {
   "cell_type": "code",
   "execution_count": 2,
   "id": "8568afdc",
   "metadata": {},
   "outputs": [],
   "source": [
    "from sklearn import datasets # MNIST 손글씨 데이터셋을 사용하기 위해 import 시킨다.\n",
    "from sklearn import tree # 의사결정 트리\n",
    "from sklearn.neighbors import KNeighborsClassifier # kNN\n",
    "from sklearn.svm import SVC # SVM\n",
    "from sklearn.ensemble import VotingClassifier # 하드 보팅, 소프트 보팅을 계산한다.\n",
    "from sklearn.model_selection import train_test_split # 학습, 검증 데이터 분리\n",
    "from sklearn.metrics import accuracy_score # 정확도 계산"
   ]
  },
  {
   "cell_type": "markdown",
   "id": "be3e8806",
   "metadata": {},
   "source": [
    "손글씨 데이터를 불러온다."
   ]
  },
  {
   "cell_type": "code",
   "execution_count": 3,
   "id": "c912a338",
   "metadata": {},
   "outputs": [
    {
     "name": "stdout",
     "output_type": "stream",
     "text": [
      "(1797, 64) (1797,)\n"
     ]
    }
   ],
   "source": [
    "mnist = datasets.load_digits()\n",
    "features, labels = mnist.data, mnist.target\n",
    "print(features.shape, labels.shape)"
   ]
  },
  {
   "cell_type": "code",
   "execution_count": 4,
   "id": "e327ea1c",
   "metadata": {},
   "outputs": [
    {
     "name": "stdout",
     "output_type": "stream",
     "text": [
      "학습 데이터 개수: 1437, 테스트 데이터 개수: 360\n"
     ]
    }
   ],
   "source": [
    "X_train, X_test, y_train, y_test = train_test_split(features, labels, test_size=0.2)\n",
    "print('학습 데이터 개수: {}, 테스트 데이터 개수: {}'.format(len(X_train), len(X_test)))"
   ]
  },
  {
   "cell_type": "markdown",
   "id": "5b976d94",
   "metadata": {},
   "source": [
    "단일 모델의 정확도 측정  \n",
    "앙상블의 정확도를 측정하기에 앞서 단일 모델들의 정확도를 의사결정 트리, kNN, SVM 분류기를 만들어 정확도를 계산한다."
   ]
  },
  {
   "cell_type": "code",
   "execution_count": 5,
   "id": "2736afef",
   "metadata": {},
   "outputs": [
    {
     "name": "stdout",
     "output_type": "stream",
     "text": [
      "정확도\n",
      "dtree: 0.8\n",
      "knn:   0.8694444444444445\n",
      "svm:   0.9027777777777778\n"
     ]
    }
   ],
   "source": [
    "# 의사결정 트리\n",
    "# criterion : split 할 특성 선택 알고리즘\n",
    "#     => gini : 지니 계수(gini index, 불순도, 집합에 이질적인 것이 얼마나 섞였는가), CART 알고리즘\n",
    "#     => entropy : 엔트로피(entropy, 복잡도, 불확실성), ID3 알고리즘\n",
    "# max_depth : 트리의 최대 깊이\n",
    "# max_features : split 할 때 마다 랜덤으로 선택해 그 중 하나를 split 하는데 사용\n",
    "# max_leaf_nodes : 최대 몇개 leaf 노드가 만들어 질때 까지 split 할 것인가, 작을수록 가지치기\n",
    "# min_samples_split : 자식 노드를 가지기 위한 최소한의 데이터 개수\n",
    "# min_samples_leaf : 리프 노드의 최소 데이터 개수\n",
    "dtree = tree.DecisionTreeClassifier(criterion='gini', max_depth=8, max_features=32, random_state=35)\n",
    "dtree = dtree.fit(X_train, y_train)\n",
    "dtree_predicted = dtree.predict(X_test)\n",
    "\n",
    "# kNN\n",
    "# KNeighborsClassifier() 함수의 n_neighbors 속성에 kNN 모델에서 사용할 이웃의 개수를 지정한다.\n",
    "knn = KNeighborsClassifier(n_neighbors=299).fit(X_train, y_train)\n",
    "knn_predicted = knn.predict(X_test)\n",
    "\n",
    "# SVM\n",
    "# probability : 확률 추정치를 사용할지 여부를 지정한다. fit() 메소드를 호출하기 전에 저장해야 하며 실행 속도가 느려진다.\n",
    "svm = SVC(C=0.1, gamma=0.003, probability=True, random_state=35).fit(X_train, y_train)\n",
    "svm_predicted = svm.predict(X_test)\n",
    "\n",
    "# 모델 예측 정확도(accuracy)를 출력한다.\n",
    "print('정확도')\n",
    "print('dtree: {}'.format(accuracy_score(y_test, dtree_predicted))) # 테스트 데이터 실제값, 예측값\n",
    "print('knn:   {}'.format(accuracy_score(y_test, knn_predicted)))\n",
    "print('svm:   {}'.format(accuracy_score(y_test, svm_predicted)))"
   ]
  },
  {
   "cell_type": "markdown",
   "id": "ab79a002",
   "metadata": {},
   "source": [
    "확률 합계"
   ]
  },
  {
   "cell_type": "code",
   "execution_count": 6,
   "id": "42697c33",
   "metadata": {},
   "outputs": [
    {
     "name": "stdout",
     "output_type": "stream",
     "text": [
      "[1.02265489e-03 1.69863482e-03 3.66529238e-03 1.31529187e-03\n",
      " 2.11912311e-03 4.85669481e-03 8.83226625e-04 9.75017181e-01\n",
      " 5.84402918e-03 3.57787139e-03]\n",
      "확률 합계: 0.9999999999999997\n"
     ]
    }
   ],
   "source": [
    "svm_proba = svm.predict_proba(X_test)\n",
    "# print(len(svm_proba)) # 테스트 데이터 개수\n",
    "print(svm_proba[0])\n",
    "total = 0.0\n",
    "for i in svm_proba[0]:\n",
    "    total += i\n",
    "print('확률 합계: {}'.format(total))"
   ]
  },
  {
   "cell_type": "markdown",
   "id": "af3bcfc0",
   "metadata": {},
   "source": [
    "하드 보팅, 소프트 보팅은 VotingClassifier를 사용해 쉽게 구현할 수 있다."
   ]
  },
  {
   "cell_type": "markdown",
   "id": "f0112e2c",
   "metadata": {},
   "source": [
    "하드 보팅  \n",
    "하드 보팅은 일반적인 투표와 같이 각 분류기의 예측값들을 모아 가장 많은 투표를 받은 예측값으로 최종 결론을 내리는 방식이다."
   ]
  },
  {
   "cell_type": "code",
   "execution_count": 7,
   "id": "1204012a",
   "metadata": {},
   "outputs": [
    {
     "name": "stdout",
     "output_type": "stream",
     "text": [
      "hard_voting:   0.9138888888888889\n"
     ]
    }
   ],
   "source": [
    "voting_clf = VotingClassifier(estimators=[('decision_tree', dtree), ('knn', knn), ('svm', svm)], weights=[1, 1, 1],\n",
    "                             voting='hard').fit(X_train, y_train)\n",
    "hard_voting_predicted = voting_clf.predict(X_test)\n",
    "print('hard_voting:   {}'.format(accuracy_score(y_test, hard_voting_predicted)))"
   ]
  },
  {
   "cell_type": "markdown",
   "id": "3b6cc2fb",
   "metadata": {},
   "source": [
    "소프트 보팅"
   ]
  },
  {
   "cell_type": "code",
   "execution_count": 8,
   "id": "e194f316",
   "metadata": {},
   "outputs": [
    {
     "name": "stdout",
     "output_type": "stream",
     "text": [
      "soft_voting:   0.8916666666666667\n"
     ]
    }
   ],
   "source": [
    "voting_clf = VotingClassifier(estimators=[('decision_tree', dtree), ('knn', knn), ('svm', svm)], weights=[1, 1, 1],\n",
    "                             voting='soft').fit(X_train, y_train)\n",
    "soft_voting_predicted = voting_clf.predict(X_test)\n",
    "print('soft_voting:   {}'.format(accuracy_score(y_test, soft_voting_predicted)))"
   ]
  },
  {
   "cell_type": "markdown",
   "id": "28bf14c5",
   "metadata": {},
   "source": [
    "단일 모델과 앙상블 모델의 정확도 비교 시각화"
   ]
  },
  {
   "cell_type": "code",
   "execution_count": 9,
   "id": "9cfd4557",
   "metadata": {},
   "outputs": [
    {
     "data": {
      "image/png": "[encoded data removed]",
      "text/plain": [
       "<Figure size 432x288 with 1 Axes>"
      ]
     },
     "metadata": {
      "needs_background": "light"
     },
     "output_type": "display_data"
    }
   ],
   "source": [
    "import matplotlib.pyplot as plt\n",
    "import numpy as np\n",
    "%matplotlib inline\n",
    "\n",
    "x = np.arange(5)\n",
    "plt.bar(x, height=[\n",
    "    accuracy_score(y_test, dtree_predicted),\n",
    "    accuracy_score(y_test, knn_predicted),\n",
    "    accuracy_score(y_test, svm_predicted),\n",
    "    accuracy_score(y_test, hard_voting_predicted),\n",
    "    accuracy_score(y_test, soft_voting_predicted)\n",
    "])\n",
    "plt.xticks(x, ['decision_tree', 'knn', 'svm', 'hard_voting', 'soft_voting'])\n",
    "plt.show()"
   ]
  },
  {
   "cell_type": "code",
   "execution_count": null,
   "id": "5cd84bf4",
   "metadata": {},
   "outputs": [],
   "source": []
  },
  {
   "cell_type": "code",
   "execution_count": null,
   "id": "0e8e4145",
   "metadata": {},
   "outputs": [],
   "source": []
  },
  {
   "cell_type": "code",
   "execution_count": null,
   "id": "6ea1b7f4",
   "metadata": {},
   "outputs": [],
   "source": []
  },
  {
   "cell_type": "code",
   "execution_count": null,
   "id": "0ee8d3f6",
   "metadata": {},
   "outputs": [],
   "source": []
  },
  {
   "cell_type": "code",
   "execution_count": null,
   "id": "8577adc8",
   "metadata": {},
   "outputs": [],
   "source": []
  }
 ],
 "metadata": {
  "kernelspec": {
   "display_name": "Python 3",
   "language": "python",
   "name": "python3"
  },
  "language_info": {
   "codemirror_mode": {
    "name": "ipython",
    "version": 3
   },
   "file_extension": ".py",
   "mimetype": "text/x-python",
   "name": "python",
   "nbconvert_exporter": "python",
   "pygments_lexer": "ipython3",
   "version": "3.9.5"
  }
 },
 "nbformat": 4,
 "nbformat_minor": 5
}
