{
 "cells": [
  {
   "cell_type": "code",
   "execution_count": 1,
   "id": "23234155",
   "metadata": {},
   "outputs": [
    {
     "name": "stdout",
     "output_type": "stream",
     "text": [
      "WARNING:tensorflow:From d:\\python36\\lib\\site-packages\\tensorflow\\python\\compat\\v2_compat.py:96: disable_resource_variables (from tensorflow.python.ops.variable_scope) is deprecated and will be removed in a future version.\n",
      "Instructions for updating:\n",
      "non-resource variables are not supported in the long term\n"
     ]
    }
   ],
   "source": [
    "import warnings\n",
    "warnings.filterwarnings(\"ignore\")\n",
    "import numpy as np\n",
    "import pandas as pd\n",
    "import tensorflow.compat.v1 as tf\n",
    "tf.disable_v2_behavior()"
   ]
  },
  {
   "cell_type": "markdown",
   "id": "f50aedfa",
   "metadata": {},
   "source": [
    "학습 데이터를 만든다."
   ]
  },
  {
   "cell_type": "code",
   "execution_count": 2,
   "id": "5031505a",
   "metadata": {},
   "outputs": [
    {
     "name": "stdout",
     "output_type": "stream",
     "text": [
      "[[2, 3], [4, 3], [6, 4], [8, 6], [10, 7], [12, 8], [14, 9]]\n",
      "<class 'list'>\n",
      "[[ 2  3]\n",
      " [ 4  3]\n",
      " [ 6  4]\n",
      " [ 8  6]\n",
      " [10  7]\n",
      " [12  8]\n",
      " [14  9]]\n",
      "<class 'numpy.ndarray'>\n"
     ]
    }
   ],
   "source": [
    "# xData => [공부 시간, 과외 시간]\n",
    "temp = [[2, 3], [4, 3], [6, 4], [8, 6], [10, 7], [12, 8], [14, 9]]\n",
    "print(temp)\n",
    "print(type(temp))\n",
    "\n",
    "xData = np.array(temp)\n",
    "print(xData)\n",
    "print(type(xData))"
   ]
  },
  {
   "cell_type": "code",
   "execution_count": 3,
   "id": "02024c83",
   "metadata": {},
   "outputs": [
    {
     "name": "stdout",
     "output_type": "stream",
     "text": [
      "[0, 0, 0, 1, 1, 1, 1]\n",
      "<class 'list'>\n",
      "[0 0 0 1 1 1 1]\n",
      "[[0]\n",
      " [0]\n",
      " [0]\n",
      " [1]\n",
      " [1]\n",
      " [1]\n",
      " [1]]\n",
      "<class 'numpy.ndarray'>\n"
     ]
    }
   ],
   "source": [
    "# yData => [합격 여부] => 실제값\n",
    "temp = [0, 0, 0, 1, 1, 1, 1]\n",
    "print(temp)\n",
    "print(type(temp))\n",
    "\n",
    "yData = np.array(temp)\n",
    "print(yData)\n",
    "# reshape() : 넘파이에서 데이터는 그대로 유지한 채 배열의 형태(차원)을 변경한다. 1행 7열 넘파이 배열 => 7행 1열 넘파이 배열\n",
    "yData = np.array(temp).reshape(7, 1)\n",
    "print(yData)\n",
    "print(type(yData))"
   ]
  },
  {
   "cell_type": "markdown",
   "id": "26db87de",
   "metadata": {},
   "source": [
    "xData와 yData를 저장할 placeholder를 만든다."
   ]
  },
  {
   "cell_type": "code",
   "execution_count": 4,
   "id": "e55056bc",
   "metadata": {},
   "outputs": [],
   "source": [
    "# placeholder에 넘파이 배열을 대입하는 경우 shape 속성을 이용해 대입되는 넘파이 배열의 차원을 지정해줘야 한다.\n",
    "# [None, 2] => placeholder에 대입되는 넘파이 배열의 행의 개수는 몇개라도 상관이 없고 열의 개수는 무조건 2개이다.\n",
    "X = tf.placeholder(dtype=tf.float32, shape=[None, 2]) # xData가 대입될 placeholder\n",
    "Y = tf.placeholder(dtype=tf.float32, shape=[None, 1]) # yData가 대입될 placeholder"
   ]
  },
  {
   "cell_type": "markdown",
   "id": "1f09602b",
   "metadata": {},
   "source": [
    "기울기(가중치) a와 y절편(바이어스) b를 임의로 정한다."
   ]
  },
  {
   "cell_type": "code",
   "execution_count": 5,
   "id": "bd1df591",
   "metadata": {},
   "outputs": [
    {
     "name": "stdout",
     "output_type": "stream",
     "text": [
      "a: [[0.23371518]\n",
      " [0.92461264]]\n",
      "b: [0.346743]\n",
      "a1: [0.23371518], a2: [0.92461264], b: [0.346743]\n"
     ]
    }
   ],
   "source": [
    "a = tf.Variable(tf.random_uniform([2, 1]), dtype=tf.float32) # 난수를 2행 1열로 만든다.\n",
    "b = tf.Variable(tf.random_uniform([1]), dtype=tf.float32)\n",
    "sess = tf.Session()\n",
    "sess.run(tf.global_variables_initializer())\n",
    "print('a: {}'.format(sess.run(a)))\n",
    "print('b: {}'.format(sess.run(b)))\n",
    "print('a1: {}, a2: {}, b: {}'.format(sess.run(a)[0], sess.run(a)[1], sess.run(b)))"
   ]
  },
  {
   "cell_type": "markdown",
   "id": "8581e9d7",
   "metadata": {},
   "source": [
    "시그모이드 방정식, 오차 함수, 경사 하강"
   ]
  },
  {
   "cell_type": "code",
   "execution_count": 6,
   "id": "1f457f3a",
   "metadata": {},
   "outputs": [],
   "source": [
    "# matmul() : tensorflow에서 행렬의 곱셈을 계산하는 메소드\n",
    "# sigmoid() : tensorflow에서 시그모이드 방정식을 계산하는 메소드\n",
    "y = tf.sigmoid(tf.matmul(X, a) + b) # 시그모이드 방정식\n",
    "loss = -tf.reduce_mean(Y * tf.log(y) + (1 - Y) * tf.log(1 - y)) # 오차 함수\n",
    "gradient_descent = tf.train.GradientDescentOptimizer(0.1).minimize(loss) # 경사 하강"
   ]
  },
  {
   "cell_type": "markdown",
   "id": "8d5abb04",
   "metadata": {},
   "source": [
    "sigmoid() 메소드의 실행 결과(y)가 0.5 이상이면 1을 0.5 미만이면 0을 리턴한다."
   ]
  },
  {
   "cell_type": "code",
   "execution_count": 7,
   "id": "a694e512",
   "metadata": {},
   "outputs": [
    {
     "name": "stdout",
     "output_type": "stream",
     "text": [
      "0.0\n",
      "1.0\n"
     ]
    }
   ],
   "source": [
    "sess = tf.Session()\n",
    "# cast(캐스팅할 데이터, dtype=캐스팅될 데이터 타입) : tensorflow에서 형변환을 실행하는 메소드\n",
    "# predicted = tf.cast(tf.constant([1.9, 2.1]), dtype=tf.int32)\n",
    "# print(sess.run(predicted)) # [1 2]\n",
    "# cast() 메소드의 캐스팅할 데이터가 boolean 타입이면 True는 1로 False는 0으로 캐스팅 한다.\n",
    "predicted = tf.cast(0.4 >= 0.5, dtype=tf.float32)\n",
    "print(sess.run(predicted)) # 0.0\n",
    "predicted = tf.cast(0.5 >= 0.5, dtype=tf.float32)\n",
    "print(sess.run(predicted)) # 1.0"
   ]
  },
  {
   "cell_type": "markdown",
   "id": "adab730f",
   "metadata": {},
   "source": [
    "sigmoid() 메소드를 실행한 예상값을 계산한다."
   ]
  },
  {
   "cell_type": "code",
   "execution_count": 8,
   "id": "7f057146",
   "metadata": {},
   "outputs": [],
   "source": [
    "predicted = tf.cast(y >= 0.5, dtype=tf.float32) # 예측값, sigmoid() 메소드를 실행한 결과(y)를 0 또는 1로 변환한다.\n",
    "# 예측값과 실제값이 일치하는 정도(정확도)를 계산한다.\n",
    "# equal() : tensorflow에서 인수로 지정된 값이 같으면 True, 다르면 False를 리턴하는 메소드\n",
    "# equal() 메소드로 예측값(predicted)과 실제값(Y)이 같은가 비교한 후 True 또는 False 결과를 1 또는 0으로 캐스팅하고 시행된 전체\n",
    "# 결과의 평균을 계산한다.\n",
    "accuracy = tf.reduce_mean(tf.cast(tf.equal(predicted, Y), dtype=tf.float32))"
   ]
  },
  {
   "cell_type": "markdown",
   "id": "60918403",
   "metadata": {},
   "source": [
    "학습을 시킨다."
   ]
  },
  {
   "cell_type": "code",
   "execution_count": 10,
   "id": "8091ed6b",
   "metadata": {},
   "outputs": [
    {
     "name": "stdout",
     "output_type": "stream",
     "text": [
      "Epoch:    0, a1:   0.01480, a2:   0.28791, b:   0.40137, loss:   1.11868\n",
      "Epoch:  300, a1:   0.78895, a2:  -0.50906, b:  -2.47336, loss:   0.26414\n",
      "Epoch:  600, a1:   0.79802, a2:  -0.25166, b:  -3.93369, loss:   0.18960\n",
      "Epoch:  900, a1:   0.71452, a2:   0.06558, b:  -4.99058, loss:   0.14851\n",
      "Epoch: 1200, a1:   0.61558, a2:   0.36455, b:  -5.82740, loss:   0.12175\n",
      "Epoch: 1500, a1:   0.52012, a2:   0.63227, b:  -6.52194, loss:   0.10292\n",
      "Epoch: 1800, a1:   0.43322, a2:   0.86916, b:  -7.11617, loss:   0.08899\n",
      "Epoch: 2100, a1:   0.35566, a2:   1.07881, b:  -7.63569, loss:   0.07831\n",
      "Epoch: 2400, a1:   0.28683, a2:   1.26521, b:  -8.09733, loss:   0.06988\n",
      "Epoch: 2700, a1:   0.22569, a2:   1.43198, b:  -8.51278, loss:   0.06306\n",
      "Epoch: 3000, a1:   0.17119, a2:   1.58221, b:  -8.89052, loss:   0.05745\n",
      "공부 시간: 6, 과외 시간: 5\n",
      "합격 여부: 1, 합격 확률: 0.511920\n",
      "================================================================================\n",
      "공부 시간: 0, 과외 시간:  0 합격 여부: 불합격, 합격 확률:  0.0138%\n",
      "공부 시간: 0, 과외 시간:  1 합격 여부: 불합격, 합격 확률:  0.0669%\n",
      "공부 시간: 0, 과외 시간:  2 합격 여부: 불합격, 합격 확률:  0.3249%\n",
      "공부 시간: 0, 과외 시간:  3 합격 여부: 불합격, 합격 확률:  1.5614%\n",
      "공부 시간: 0, 과외 시간:  4 합격 여부: 불합격, 합격 확률:  7.1647%\n",
      "공부 시간: 0, 과외 시간:  5 합격 여부: 불합격, 합격 확률: 27.3000%\n",
      "공부 시간: 0, 과외 시간:  6 합격 여부:   합격, 합격 확률: 64.6287%\n",
      "공부 시간: 0, 과외 시간:  7 합격 여부:   합격, 합격 확률: 89.8892%\n",
      "공부 시간: 0, 과외 시간:  8 합격 여부:   합격, 합격 확률: 97.7405%\n",
      "공부 시간: 0, 과외 시간:  9 합격 여부:   합격, 합격 확률: 99.5271%\n",
      "공부 시간: 0, 과외 시간: 10 합격 여부:   합격, 합격 확률: 99.9025%\n"
     ]
    }
   ],
   "source": [
    "sess = tf.Session()\n",
    "sess.run(tf.global_variables_initializer())\n",
    "\n",
    "for i in range(3001):\n",
    "    # sess.run([기울기, y절편, 오차함수, 경사하강], feed_fict={X: 입력 데이터, Y: 입력 데이터에 따른 실제값})\n",
    "    a_, b_, loss_, _ = sess.run([a, b, loss, gradient_descent], feed_dict={X: xData, Y: yData})\n",
    "    if i % 300 == 0:\n",
    "        # Epoch: 학습 횟수, a1: 공부 시간 기울기, a2: 과외 시간 기울기, b: y절편, loss: 오차함수\n",
    "        print('Epoch: %4d, a1: %9.5f, a2: %9.5f, b: %9.5f, loss: %9.5f' % (i, a_[0], a_[1], b_, loss_))\n",
    "        \n",
    "# 테스트 데이터를 만든다.\n",
    "# new_x = np.array([6, 5]) # 테스트 데이터가 1차원 넘파이 배열이기 때문에 행렬의 곱셈 연산이 실행되지 않는다.\n",
    "# print(new_x) # [6 5] => 1차원\n",
    "# reshape() 메소드를 이용해서 1행 2열인 2차원 넘파이 배열로 테스트 데이터를 만들어야 한다.\n",
    "new_x = np.array([6, 5]).reshape(1, 2)\n",
    "# print(new_x) # [[6 5]] => 2차원\n",
    "\n",
    "# sigmoid() 메소드의 연산 결과에 테스트 데이터를 대입해서 연산한다.\n",
    "result, new_y = sess.run([predicted, y], feed_dict={X: new_x})\n",
    "print('공부 시간: %d, 과외 시간: %d' % (new_x[:, 0], new_x[:, 1]))\n",
    "print('합격 여부: %d, 합격 확률: %f' % (result, new_y))\n",
    "print('=' * 80)\n",
    "\n",
    "for i in range(11):\n",
    "    new_x = np.array([0, i]).reshape(1, 2)\n",
    "    result, new_y = sess.run([predicted, y], feed_dict={X: new_x})\n",
    "    print('공부 시간: %d, 과외 시간: %2d' % (new_x[:, 0], new_x[:, 1]), end=' ')\n",
    "    print('합격 여부: %s, 합격 확률: %7.4f%%' % ('  합격' if result == 1 else '불합격', new_y * 100))"
   ]
  },
  {
   "cell_type": "code",
   "execution_count": null,
   "id": "7c9b1903",
   "metadata": {},
   "outputs": [],
   "source": []
  },
  {
   "cell_type": "code",
   "execution_count": null,
   "id": "de7fbcaa",
   "metadata": {},
   "outputs": [],
   "source": []
  },
  {
   "cell_type": "code",
   "execution_count": null,
   "id": "fa9dacca",
   "metadata": {},
   "outputs": [],
   "source": []
  },
  {
   "cell_type": "code",
   "execution_count": null,
   "id": "9c6e5695",
   "metadata": {},
   "outputs": [],
   "source": []
  },
  {
   "cell_type": "code",
   "execution_count": null,
   "id": "d161f6fd",
   "metadata": {},
   "outputs": [],
   "source": []
  },
  {
   "cell_type": "code",
   "execution_count": null,
   "id": "0b06811d",
   "metadata": {},
   "outputs": [],
   "source": []
  },
  {
   "cell_type": "code",
   "execution_count": null,
   "id": "5d68caa0",
   "metadata": {},
   "outputs": [],
   "source": []
  },
  {
   "cell_type": "code",
   "execution_count": null,
   "id": "5921723d",
   "metadata": {},
   "outputs": [],
   "source": []
  },
  {
   "cell_type": "code",
   "execution_count": null,
   "id": "e8b63272",
   "metadata": {},
   "outputs": [],
   "source": []
  }
 ],
 "metadata": {
  "kernelspec": {
   "display_name": "Python 3",
   "language": "python",
   "name": "python3"
  },
  "language_info": {
   "codemirror_mode": {
    "name": "ipython",
    "version": 3
   },
   "file_extension": ".py",
   "mimetype": "text/x-python",
   "name": "python",
   "nbconvert_exporter": "python",
   "pygments_lexer": "ipython3",
   "version": "3.6.8"
  }
 },
 "nbformat": 4,
 "nbformat_minor": 5
}
