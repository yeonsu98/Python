{
 "cells": [
  {
   "cell_type": "code",
   "execution_count": 1,
   "id": "d68d51c1",
   "metadata": {},
   "outputs": [],
   "source": [
    "import warnings\n",
    "warnings.filterwarnings('ignore')"
   ]
  },
  {
   "cell_type": "markdown",
   "id": "3b80b3fe",
   "metadata": {},
   "source": [
    "데이터 획득"
   ]
  },
  {
   "cell_type": "code",
   "execution_count": 2,
   "id": "44cd291a",
   "metadata": {},
   "outputs": [
    {
     "name": "stdout",
     "output_type": "stream",
     "text": [
      "<class 'pandas.core.frame.DataFrame'>\n"
     ]
    },
    {
     "data": {
      "text/html": [
       "<div>\n",
       "<style scoped>\n",
       "    .dataframe tbody tr th:only-of-type {\n",
       "        vertical-align: middle;\n",
       "    }\n",
       "\n",
       "    .dataframe tbody tr th {\n",
       "        vertical-align: top;\n",
       "    }\n",
       "\n",
       "    .dataframe thead th {\n",
       "        text-align: right;\n",
       "    }\n",
       "</style>\n",
       "<table border=\"1\" class=\"dataframe\">\n",
       "  <thead>\n",
       "    <tr style=\"text-align: right;\">\n",
       "      <th></th>\n",
       "      <th>Player</th>\n",
       "      <th>Pos</th>\n",
       "      <th>3P</th>\n",
       "      <th>2P</th>\n",
       "      <th>TRB</th>\n",
       "      <th>AST</th>\n",
       "      <th>STL</th>\n",
       "      <th>BLK</th>\n",
       "    </tr>\n",
       "  </thead>\n",
       "  <tbody>\n",
       "    <tr>\n",
       "      <th>0</th>\n",
       "      <td>Alex Abrines</td>\n",
       "      <td>SG</td>\n",
       "      <td>1.4</td>\n",
       "      <td>0.6</td>\n",
       "      <td>1.3</td>\n",
       "      <td>0.6</td>\n",
       "      <td>0.5</td>\n",
       "      <td>0.1</td>\n",
       "    </tr>\n",
       "    <tr>\n",
       "      <th>1</th>\n",
       "      <td>Steven Adams</td>\n",
       "      <td>C</td>\n",
       "      <td>0.0</td>\n",
       "      <td>4.7</td>\n",
       "      <td>7.7</td>\n",
       "      <td>1.1</td>\n",
       "      <td>1.1</td>\n",
       "      <td>1.0</td>\n",
       "    </tr>\n",
       "    <tr>\n",
       "      <th>2</th>\n",
       "      <td>Alexis Ajinca</td>\n",
       "      <td>C</td>\n",
       "      <td>0.0</td>\n",
       "      <td>2.3</td>\n",
       "      <td>4.5</td>\n",
       "      <td>0.3</td>\n",
       "      <td>0.5</td>\n",
       "      <td>0.6</td>\n",
       "    </tr>\n",
       "    <tr>\n",
       "      <th>3</th>\n",
       "      <td>Chris Andersen</td>\n",
       "      <td>C</td>\n",
       "      <td>0.0</td>\n",
       "      <td>0.8</td>\n",
       "      <td>2.6</td>\n",
       "      <td>0.4</td>\n",
       "      <td>0.4</td>\n",
       "      <td>0.6</td>\n",
       "    </tr>\n",
       "    <tr>\n",
       "      <th>4</th>\n",
       "      <td>Will Barton</td>\n",
       "      <td>SG</td>\n",
       "      <td>1.5</td>\n",
       "      <td>3.5</td>\n",
       "      <td>4.3</td>\n",
       "      <td>3.4</td>\n",
       "      <td>0.8</td>\n",
       "      <td>0.5</td>\n",
       "    </tr>\n",
       "  </tbody>\n",
       "</table>\n",
       "</div>"
      ],
      "text/plain": [
       "           Player Pos   3P   2P  TRB  AST  STL  BLK\n",
       "0    Alex Abrines  SG  1.4  0.6  1.3  0.6  0.5  0.1\n",
       "1    Steven Adams   C  0.0  4.7  7.7  1.1  1.1  1.0\n",
       "2   Alexis Ajinca   C  0.0  2.3  4.5  0.3  0.5  0.6\n",
       "3  Chris Andersen   C  0.0  0.8  2.6  0.4  0.4  0.6\n",
       "4     Will Barton  SG  1.5  3.5  4.3  3.4  0.8  0.5"
      ]
     },
     "execution_count": 2,
     "metadata": {},
     "output_type": "execute_result"
    }
   ],
   "source": [
    "import pandas as pd # 데이터 처리를 위해 판다스 라이브러리를 import 한다.\n",
    "df = pd.read_csv('./data/basketball_stat.csv') # basketball_stat.csv 파일의 데이터를 데이터프레임으로 불러온다.\n",
    "print(type(df))\n",
    "df.head()"
   ]
  },
  {
   "cell_type": "code",
   "execution_count": 3,
   "id": "a56f83d2",
   "metadata": {},
   "outputs": [
    {
     "data": {
      "text/plain": [
       "C     50\n",
       "SG    50\n",
       "Name: Pos, dtype: int64"
      ]
     },
     "execution_count": 3,
     "metadata": {},
     "output_type": "execute_result"
    }
   ],
   "source": [
    "df.Pos.value_counts()"
   ]
  },
  {
   "cell_type": "markdown",
   "id": "6b4793e1",
   "metadata": {},
   "source": [
    "데이터 시각화"
   ]
  },
  {
   "cell_type": "code",
   "execution_count": null,
   "id": "b7104c92",
   "metadata": {},
   "outputs": [],
   "source": [
    "# 그래프를 출력하기 위해 matplotlib 라이브러리와 seaborn 라이브러리를 import 한다.\n",
    "import matplotlib.pyplot as plt\n",
    "import seaborn as sns\n",
    "# jupyter notebook에 그래프를 출력할 수 있게한다.\n",
    "%matplotlib inline"
   ]
  },
  {
   "cell_type": "code",
   "execution_count": null,
   "id": "02e45dd2",
   "metadata": {},
   "outputs": [],
   "source": [
    "# seaborn 라이브러리의 lmplot() 메소드로 스틸과 2점슛, 어시스트와 2점슛의 포지션(Pos) 별 분포도를 출력한다.\n",
    "sns.lmplot( data=df, x='STL', y='2P', fit_reg=False, # 데이터, x축, y축, 회귀선 표시 여부\n",
    "           scatter_kws={'s': 50},                    # 그래프에 표시될 표식의 크기\n",
    "           markers=['o', 'x'],                       # hue에 따른 표식의 종류\n",
    "           hue='Pos')                                # 그래프에 표시될 표식의 색상\n",
    "plt.title('STL and 2P in 2d plane')\n",
    "sns.lmplot( data=df, x='AST', y='2P', fit_reg=False, scatter_kws={'s': 50}, markers=['o', 'x'], hue='Pos')\n",
    "plt.title('AST and 2P in 2d plane')\n",
    "plt.show()"
   ]
  },
  {
   "cell_type": "code",
   "execution_count": null,
   "id": "9bf7a36d",
   "metadata": {},
   "outputs": [],
   "source": [
    "# seaborn 라이브러리의 lmplot() 메소드로 블로킹과 3점슛, 리바운드와 3점슛의 포지션(Pos) 별 분포도를 출력한다.\n",
    "sns.lmplot( data=df, x='BLK', y='3P', fit_reg=False, scatter_kws={'s': 50}, markers=['o', 'x'], hue='Pos')\n",
    "plt.title('BLK and 3P in 2d plane')\n",
    "sns.lmplot( data=df, x='TRB', y='3P', fit_reg=False, scatter_kws={'s': 50}, markers=['o', 'x'], hue='Pos')\n",
    "plt.title('TRB and 3P in 2d plane')\n",
    "plt.show()"
   ]
  },
  {
   "cell_type": "markdown",
   "id": "1f6b8536",
   "metadata": {},
   "source": [
    "데이터 다듬기"
   ]
  },
  {
   "cell_type": "code",
   "execution_count": null,
   "id": "12c00983",
   "metadata": {},
   "outputs": [],
   "source": [
    "# 판다스의 drop() 메소드로 불필요한 컬럼 전체를 삭제할 수 있다.\n",
    "# axis 속성은 생략시 0이 기본값이며 행을 삭제하고 1을 쓰면 열을 삭제한다.\n",
    "# inplace 속성은 False가 기본값이며 메소드가 실행된 결과를 데이터에 반영하지 않고 True를 쓰면 결과를 데이터에 반영한다.\n",
    "# df = df.drop(['2P', 'AST', 'STL'], axis=1)\n",
    "df.drop(['2P', 'AST', 'STL'], axis=1, inplace=True)\n",
    "df.head()"
   ]
  },
  {
   "cell_type": "markdown",
   "id": "47ec7f90",
   "metadata": {},
   "source": [
    "데이터 나누기"
   ]
  },
  {
   "cell_type": "code",
   "execution_count": null,
   "id": "d498a7b4",
   "metadata": {},
   "outputs": [],
   "source": [
    "# 학습 데이터와 테스트 데이터로 데이터를 분리하기 위해 sklearn의 train_test_split() 함수를 import 한다.\n",
    "from sklearn.model_selection import train_test_split\n",
    "# 데이터의 80%를 학습용 데이터로 데이터의 20%를 테스트 데이터로 무작위로 분리한다.\n",
    "train, test = train_test_split(df, test_size=0.2)\n",
    "print(train.shape[0])\n",
    "print(test.shape[0])"
   ]
  },
  {
   "cell_type": "markdown",
   "id": "68d959ec",
   "metadata": {},
   "source": [
    "최적의 kNN 파라미터 찾기"
   ]
  },
  {
   "cell_type": "code",
   "execution_count": null,
   "id": "3478899c",
   "metadata": {},
   "outputs": [],
   "source": [
    "# sklearn의 cross_val_score() 함수의 k-fold 교차 검증을 사용해서 kNN 알고리즘의 조절 가능한 단 하나의 변수 k를 찾는다.\n",
    "# k-fold 교차 검증 기존 데이터를 k개로 나눠서 k번 정확도를 검증하는 방법이다.\n",
    "# kNN을 사용하기 위한 라이브러리를 추가한다.\n",
    "from sklearn.model_selection import cross_val_score\n",
    "from sklearn.neighbors import KNeighborsClassifier"
   ]
  },
  {
   "cell_type": "code",
   "execution_count": null,
   "id": "dacb6535",
   "metadata": {},
   "outputs": [],
   "source": [
    "# 최적의 k를 찾기 위해 교차 검증을 수행할 k의 범위를 3부터 학습 데이터 개수의 절반까지 지정한다.\n",
    "k_list = []\n",
    "for i in range(3, train.shape[0] // 2, 2):\n",
    "    k_list.append(i)\n",
    "print(k_list)"
   ]
  },
  {
   "cell_type": "code",
   "execution_count": null,
   "id": "f9704955",
   "metadata": {},
   "outputs": [],
   "source": [
    "# 각각의 k별 10-fold 교차 검증 결과의 평균을 기억할 빈 리스트를 선언한다.\n",
    "cross_validation_scores = []\n",
    "# 학습 데이터에서 학습에 사용할 데이터를 저장한다.\n",
    "x_train = train[['3P', 'TRB', 'BLK']]\n",
    "# 학습 데이터에서 학습 결과로 사용할 데이터를 저장한다.\n",
    "y_train = train[['Pos']]"
   ]
  },
  {
   "cell_type": "markdown",
   "id": "0dd4febb",
   "metadata": {},
   "source": [
    "학습 데이터를 10조각으로 나눠 1조각을 검증 데이터로 사용하고 나머지 9조각을 학습 데이터로 사용해서 1번째 조각부터 10번째 조각까지 1번씩 검증하고 10번의 검증 결과를 10으로 나눈 평균을 검증 결과의 점수로 한다."
   ]
  },
  {
   "cell_type": "markdown",
   "id": "ce9f06ad",
   "metadata": {},
   "source": [
    "cross_val_score(model, X, Y, scoring=None, cv=None)  \n",
    "model : 회귀 분석 모형  \n",
    "X : 독립 변수 데이터, 학습 데이터  \n",
    "Y : 종속 변수 데이터, 결과  \n",
    "scoring : 성능 검증에 사용할 매개 변수에 원하는 평가 지표를 지정한다. => 정확도를 의미하는 'accuracy'를 지정한다.  \n",
    "cv : 교차 검증 생성기 객체 또는 숫자, None이면 KFold(3), 숫자를 지정하면 KFold(숫자)"
   ]
  },
  {
   "cell_type": "code",
   "execution_count": null,
   "id": "03bf2c05",
   "metadata": {},
   "outputs": [],
   "source": [
    "# 10-fold 교차 검증을 각 k를 대상으로 수행해 검증 결과를 저장한다.\n",
    "for k in k_list:\n",
    "    # KNeighborsClassifier() 함수의 n_neighbors 속성에 kNN 모델에서 사용할 이웃의 개수를 지정해 kNN 모델을 만든다.\n",
    "    knn = KNeighborsClassifier(n_neighbors=k)\n",
    "    # 학습에 따른 결과는 1차원 형태로 지정해야 하므로 values.ravel()를 사용해서 2차원을 1차원으로 변경해야 한다.\n",
    "    scores = cross_val_score(knn, x_train, y_train.values.ravel(), scoring='accuracy', cv=10)\n",
    "    cross_validation_scores.append(scores.mean())\n",
    "print(cross_validation_scores)"
   ]
  },
  {
   "cell_type": "markdown",
   "id": "86c123a9",
   "metadata": {},
   "source": [
    "각 k별로 출력된 정확도가 쉽게 이해되지 않기 때문에 시각화를 해서 최적의 k를 확인한다."
   ]
  },
  {
   "cell_type": "code",
   "execution_count": null,
   "id": "9f2e75ff",
   "metadata": {},
   "outputs": [],
   "source": [
    "plt.plot(k_list, cross_validation_scores)\n",
    "plt.xlabel('the number of k')\n",
    "plt.ylabel('accuracy')\n",
    "plt.show()"
   ]
  },
  {
   "cell_type": "code",
   "execution_count": null,
   "id": "8ae9d5d7",
   "metadata": {},
   "outputs": [],
   "source": [
    "# 예측율이 가장 높은 k를 선정한다.\n",
    "optimal_k = k_list[cross_validation_scores.index(max(cross_validation_scores))]\n",
    "# print('최적의 k: {}'.format(optimal_k))\n",
    "print('최적의 k: ' + str(optimal_k))"
   ]
  },
  {
   "cell_type": "markdown",
   "id": "247d2b49",
   "metadata": {},
   "source": [
    "모델 테스트"
   ]
  },
  {
   "cell_type": "code",
   "execution_count": null,
   "id": "40a48d9e",
   "metadata": {},
   "outputs": [],
   "source": [
    "# 분별력이 있다고 판단된 3점슛(3P), 블로킹(BLK), 리바운드(TRB) 속성으로 모들을 학습한 후 데스트를 진행한다.\n",
    "knn = KNeighborsClassifier(n_neighbors=optimal_k)\n",
    "# 학습에 사용할 속성과 예측값을 지정한다.\n",
    "x_train = train[['3P', 'TRB', 'BLK']]\n",
    "y_train = train[['Pos']]\n",
    "knn.fit(x_train, y_train.values.ravel())\n",
    "\n",
    "# 테스트에 사용할 속성과 포지션에 대한 정답을 지정한다.\n",
    "x_test = test[['3P', 'TRB', 'BLK']]\n",
    "y_test = test[['Pos']]\n",
    "\n",
    "from sklearn.metrics import accuracy_score\n",
    "# 테스트를 수행한다.\n",
    "predict = knn.predict(x_test)\n",
    "# 모델 예측 정확도(accuracy)를 출력한다.\n",
    "print('정확도: {}'.format(accuracy_score(y_test.values.ravel(), predict)))"
   ]
  },
  {
   "cell_type": "code",
   "execution_count": null,
   "id": "65fda1ed",
   "metadata": {},
   "outputs": [],
   "source": [
    "comparison = pd.DataFrame({'예측값': predict, '실제값': y_test.values.ravel()})\n",
    "comparison"
   ]
  },
  {
   "cell_type": "code",
   "execution_count": null,
   "id": "39573149",
   "metadata": {},
   "outputs": [],
   "source": [
    "x  = {'3P': [0, 3.9], 'BLK': [7.7, 0.3], 'TRB': [1, 0.1]}\n",
    "x_test = pd.DataFrame(x)\n",
    "print(x_test)\n",
    "y = {'Pos': ['C', 'SG']}\n",
    "y_test = pd.DataFrame(y)\n",
    "print(y_test)\n",
    "\n",
    "predict = knn.predict(x_test)\n",
    "print(predict)\n",
    "print('정확도: {}'.format(accuracy_score(y_test.values.ravel(), predict)))\n",
    "comparison = pd.DataFrame({'예측값': predict, '실제값': y_test.values.ravel()})\n",
    "comparison"
   ]
  },
  {
   "cell_type": "code",
   "execution_count": null,
   "id": "db0d3140",
   "metadata": {},
   "outputs": [],
   "source": []
  },
  {
   "cell_type": "code",
   "execution_count": null,
   "id": "63da3ff2",
   "metadata": {},
   "outputs": [],
   "source": []
  },
  {
   "cell_type": "code",
   "execution_count": null,
   "id": "9ce66925",
   "metadata": {},
   "outputs": [],
   "source": []
  },
  {
   "cell_type": "code",
   "execution_count": null,
   "id": "1dc661ca",
   "metadata": {},
   "outputs": [],
   "source": []
  },
  {
   "cell_type": "code",
   "execution_count": null,
   "id": "076060c9",
   "metadata": {},
   "outputs": [],
   "source": []
  },
  {
   "cell_type": "code",
   "execution_count": null,
   "id": "391de4d2",
   "metadata": {},
   "outputs": [],
   "source": []
  },
  {
   "cell_type": "code",
   "execution_count": null,
   "id": "4660ce02",
   "metadata": {},
   "outputs": [],
   "source": []
  }
 ],
 "metadata": {
  "kernelspec": {
   "display_name": "Python 3",
   "language": "python",
   "name": "python3"
  },
  "language_info": {
   "codemirror_mode": {
    "name": "ipython",
    "version": 3
   },
   "file_extension": ".py",
   "mimetype": "text/x-python",
   "name": "python",
   "nbconvert_exporter": "python",
   "pygments_lexer": "ipython3",
   "version": "3.9.5"
  }
 },
 "nbformat": 4,
 "nbformat_minor": 5
}
