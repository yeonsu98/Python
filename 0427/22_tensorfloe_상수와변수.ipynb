{
 "cells": [
  {
   "cell_type": "code",
   "execution_count": 1,
   "id": "06fa8a90",
   "metadata": {},
   "outputs": [],
   "source": [
    "import warnings\n",
    "warnings.filterwarnings(\"ignore\")"
   ]
  },
  {
   "cell_type": "code",
   "execution_count": 2,
   "id": "3ca04b57",
   "metadata": {},
   "outputs": [
    {
     "name": "stdout",
     "output_type": "stream",
     "text": [
      "WARNING:tensorflow:From d:\\python36\\lib\\site-packages\\tensorflow\\python\\compat\\v2_compat.py:96: disable_resource_variables (from tensorflow.python.ops.variable_scope) is deprecated and will be removed in a future version.\n",
      "Instructions for updating:\n",
      "non-resource variables are not supported in the long term\n",
      "2.4.1\n"
     ]
    }
   ],
   "source": [
    "# tensorflow 라이브러리를 설치하고 tf라는 별명을 지정한다.\n",
    "# import tensorflow as tf\n",
    "# tensorflow 2.x 버전이 설치된 경우 tensorflow 1.x 버전 문법을 사용하려면 아래와 같이 import 하면된다.\n",
    "import tensorflow.compat.v1 as tf\n",
    "# tensorflow 2.x 버전의 문법을 사용하지 않겠다고 선언한다.\n",
    "tf.disable_v2_behavior()\n",
    "print(tf.__version__)"
   ]
  },
  {
   "cell_type": "markdown",
   "id": "f081a9e7",
   "metadata": {},
   "source": [
    "변수, 상수, 수식을 만든다. => 세션을 만든다. => 변수를 초기화 시킨다. => 실행한다."
   ]
  },
  {
   "cell_type": "markdown",
   "id": "f812d5e6",
   "metadata": {},
   "source": [
    "tensorflow 상수"
   ]
  },
  {
   "cell_type": "code",
   "execution_count": 27,
   "id": "60b43711",
   "metadata": {},
   "outputs": [
    {
     "name": "stdout",
     "output_type": "stream",
     "text": [
      "Tensor(\"Const_34:0\", shape=(), dtype=int32)\n",
      "Tensor(\"Const_35:0\", shape=(), dtype=int32)\n",
      "Tensor(\"add_9:0\", shape=(), dtype=int32)\n",
      "Tensor(\"Add_10:0\", shape=(), dtype=int32)\n",
      "a = 300\n",
      "b = 500\n",
      "a + b = 800\n"
     ]
    }
   ],
   "source": [
    "# constant() : tensorflow에서 사용할 상수를 정의하는 메소드\n",
    "a = tf.constant(300) # tensorflow에서 사용할 상수를 정의한다.\n",
    "print(a)\n",
    "b = tf.constant(500)\n",
    "print(b)\n",
    "c = a + b            # tensorflow에서 사용할 수식을 정의한다.\n",
    "print(c)\n",
    "d = tf.add(a, b)\n",
    "print(d)\n",
    "\n",
    "# tensorflow는 반드시 Session 이라는 작업 영역을 만든 후 상수, 변수, 수식을 대입한 다음 실행해야 한다.\n",
    "sess = tf.Session() # tensorflow Session을 만든다.\n",
    "# run() : tensorflow에서 Session의 내용을 실행하는 메소드\n",
    "print('a =', sess.run(a))\n",
    "print('b =', sess.run(b))\n",
    "print('a + b =', sess.run(c))"
   ]
  },
  {
   "cell_type": "markdown",
   "id": "f889ae02",
   "metadata": {},
   "source": [
    "tensorflow 변수 => 반드시 사용하기 전에 초기화를 시켜야 한다."
   ]
  },
  {
   "cell_type": "code",
   "execution_count": 41,
   "id": "0b56422d",
   "metadata": {
    "scrolled": false
   },
   "outputs": [
    {
     "name": "stdout",
     "output_type": "stream",
     "text": [
      "<tf.Variable 'Variable_29:0' shape=() dtype=int32_ref>\n",
      "<tf.Variable 'Variable_30:0' shape=() dtype=int32_ref>\n",
      "Tensor(\"mul_24:0\", shape=(), dtype=int32)\n",
      "Tensor(\"Mul_25:0\", shape=(), dtype=int32)\n",
      "a = 5\n",
      "b = 3\n",
      "c = 15\n",
      "d = 45\n"
     ]
    }
   ],
   "source": [
    "# Variable() : tensorflow에서 사용할 변수를 정의하는 메소드\n",
    "a = tf.Variable(5) # tensorflow에서 사용할 변수를 정의하고 데이터를 넣어준다.\n",
    "print(a)\n",
    "b = tf.Variable(3)\n",
    "print(b)\n",
    "c = a * b\n",
    "print(c)\n",
    "d = tf.multiply(a, b)\n",
    "print(d)\n",
    "\n",
    "sess = tf.Session()\n",
    "\n",
    "# Variable() 메소드를 사용해서 생성한 tensorflow 변수는 사용하기 전에 반드시 초기화 시켜야 한다.\n",
    "# tensorflow 변수 초기화는 연산을 실행(사용)하기 전에만 해주면 된다.\n",
    "# global_variables_initializer() : tensorflow에서 사용할 변소를 초기화하는 메소드\n",
    "\n",
    "# tensorflow 변수 초기화\n",
    "# init = tf.global_variables_initializer()\n",
    "# sess.run(init)\n",
    "# 위의 2줄로 사용한 tensorflow 변수 초기화를 아래와 같이 1줄로 줄여서 사용할 수 있다.\n",
    "sess.run(tf.global_variables_initializer())\n",
    "print('a =', sess.run(a))\n",
    "print('b =', sess.run(b))\n",
    "print('c =', sess.run(c))\n",
    "\n",
    "# tensorflow 변수에 저장된 데이터를 변경시켰다.\n",
    "a = tf.Variable(15)\n",
    "# tensorflow 변수에 저장된 데이터가 변경되고 변경된 데이터로 다시 연산을 해야 할 경우 변수를 다시 초기화 시켜야 한다.\n",
    "sess.run(tf.global_variables_initializer())\n",
    "d = tf.multiply(a, b)\n",
    "print('d =', sess.run(d))"
   ]
  },
  {
   "cell_type": "code",
   "execution_count": null,
   "id": "c47b9bef",
   "metadata": {},
   "outputs": [],
   "source": []
  },
  {
   "cell_type": "code",
   "execution_count": null,
   "id": "91868ce3",
   "metadata": {},
   "outputs": [],
   "source": []
  },
  {
   "cell_type": "code",
   "execution_count": null,
   "id": "35f3d54a",
   "metadata": {},
   "outputs": [],
   "source": []
  },
  {
   "cell_type": "code",
   "execution_count": null,
   "id": "1ad6bb21",
   "metadata": {},
   "outputs": [],
   "source": []
  },
  {
   "cell_type": "code",
   "execution_count": null,
   "id": "a3b8a4f9",
   "metadata": {},
   "outputs": [],
   "source": []
  },
  {
   "cell_type": "code",
   "execution_count": null,
   "id": "f67b9c54",
   "metadata": {},
   "outputs": [],
   "source": []
  },
  {
   "cell_type": "code",
   "execution_count": null,
   "id": "67eff26e",
   "metadata": {},
   "outputs": [],
   "source": []
  },
  {
   "cell_type": "code",
   "execution_count": null,
   "id": "c52c3430",
   "metadata": {},
   "outputs": [],
   "source": []
  },
  {
   "cell_type": "code",
   "execution_count": null,
   "id": "0b416021",
   "metadata": {},
   "outputs": [],
   "source": []
  }
 ],
 "metadata": {
  "kernelspec": {
   "display_name": "Python 3",
   "language": "python",
   "name": "python3"
  },
  "language_info": {
   "codemirror_mode": {
    "name": "ipython",
    "version": 3
   },
   "file_extension": ".py",
   "mimetype": "text/x-python",
   "name": "python",
   "nbconvert_exporter": "python",
   "pygments_lexer": "ipython3",
   "version": "3.6.8"
  }
 },
 "nbformat": 4,
 "nbformat_minor": 5
}
